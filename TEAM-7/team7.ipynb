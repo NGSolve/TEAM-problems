{
 "cells": [
  {
   "cell_type": "markdown",
   "id": "2b17ab27",
   "metadata": {},
   "source": [
    "TEAM benchmark 7\n",
    "===\n",
    "\n",
    "https://www.compumag.org/wp/wp-content/uploads/2018/06/problem7.pdf\n",
    "\n",
    "Solve\n",
    "\\begin{align*}\n",
    "\\nabla\\times(\\nu\\nabla\\times\\mathbf{A}) + j\\omega\\sigma \\mathbf{A} = \\mathbf{J}\n",
    "\\end{align*}\n",
    "with\n",
    "\\begin{align*}\n",
    "\\mathbf{A}\\times\\mathbf{n} = \\mathbf{0}\n",
    "\\end{align*}\n",
    "on the far boundary. The magnetic permability $\\mu_0 =\\nu_0^{-1} = 4\\pi \\cdot 10^{-7}$ H/m  is set to the permability of vacuum and the electric conductivity $\\sigma_{Al} = 3.526\\cdot10^7$ S/m in the aluminum plate is used.\n"
   ]
  },
  {
   "cell_type": "code",
   "execution_count": null,
   "id": "e221d400",
   "metadata": {},
   "outputs": [],
   "source": [
    "from netgen.occ import *\n",
    "from ngsolve import *\n",
    "from ngsolve.webgui import Draw\n",
    "import matplotlib.pyplot as plt\n",
    "%matplotlib widget\n",
    "import numpy as np\n",
    "from netgen.meshing import MeshingParameters"
   ]
  },
  {
   "cell_type": "code",
   "execution_count": null,
   "id": "ec5efa67",
   "metadata": {},
   "outputs": [],
   "source": [
    "def assert_almost_eqaul(a, b, rel_eps=1e-8):\n",
    "    assert abs((a - b)/(a)) < rel_eps, f\"a: {a}, b: {b}\\neps: {abs((a - b)/(a))} > {rel_eps}\""
   ]
  },
  {
   "cell_type": "markdown",
   "id": "e7d4eadc-35e7-439e-8185-33242ba0b2b4",
   "metadata": {},
   "source": [
    "## Generate Geometry"
   ]
  },
  {
   "cell_type": "code",
   "execution_count": null,
   "id": "d8230c13-6044-47a0-b79c-ff8d699a9460",
   "metadata": {},
   "outputs": [],
   "source": [
    "xi_msm = np.array([0, 18, 36, 54, 72, 90, 108, 126, 144, 162, 180, 198, 216, 234, 252, 270, 288]) * 1e-3"
   ]
  },
  {
   "cell_type": "markdown",
   "id": "ad397997",
   "metadata": {},
   "source": [
    "The aluminum plate:"
   ]
  },
  {
   "cell_type": "code",
   "execution_count": null,
   "id": "3d762541",
   "metadata": {},
   "outputs": [],
   "source": [
    "plate = Box(Pnt(0, 0, 0), Pnt(0.294, 0.294, 0.019)) \n",
    "plate.name=\"plate\"\n",
    "plate -= Box(Pnt(0.018, 0.018, -0.1), Pnt(0.126, 0.126, 0.1))\n",
    "plate.faces.maxh=0.01\n",
    "plate.faces.col=(0.3,0.3,0.3)\n",
    "\n",
    "# alternative: less hand calculation\n",
    "wpplate = WorkPlane(Axes((0,0,0),Z,X))\n",
    "f = wpplate.Rectangle(0.294,0.294).MoveTo(0.018,0.018).Rectangle(0.108,0.108).Reverse().Face()\n",
    "plate2 = f.Extrude(0.019)\n",
    "plate2.faces.maxh=0.1"
   ]
  },
  {
   "cell_type": "markdown",
   "id": "e88feb86",
   "metadata": {},
   "source": [
    "The coil:"
   ]
  },
  {
   "cell_type": "code",
   "execution_count": null,
   "id": "5d48a53a",
   "metadata": {},
   "outputs": [],
   "source": [
    "wp = WorkPlane(Axes(p=(0.294,0.000,0.049), n=Z, h=Y)) # origin in \n",
    "wp.MoveTo(0.050,0.050).Rectangle(0.100,0.100).Offset(0.025)\n",
    "coil2D = wp.MoveTo(0.050,0.050).Rectangle(0.100,0.100).Offset(0.050).Reverse().Face()\n",
    "\n",
    "coil2D.name=\"coil_corner\"\n",
    "\n",
    "cutout_x = wp.MoveTo(0.000,0.050).Rectangle(0.300,0.100).Face()\n",
    "cutout_y = wp.MoveTo(0.050,0.000).Rectangle(0.100,0.300).Face()\n",
    "\n",
    "coil_corner = (coil2D-cutout_x-cutout_y).Extrude(0.100)\n",
    "#Draw (coil_corner)\n",
    "\n",
    "coil2D.name=\"coil_limb\"\n",
    "coil_limb = (coil2D * (cutout_x + cutout_y)).Extrude(0.100)\n",
    "#Draw (coil_limb);"
   ]
  },
  {
   "cell_type": "code",
   "execution_count": null,
   "id": "f640c195-1d9d-403a-946f-e759efa39f1b",
   "metadata": {},
   "outputs": [],
   "source": [
    "bounding_box = Box(Pnt(-.2, -.2, -.2), Pnt(0.5, 0.5, 0.5))\n",
    "bounding_box.faces.Max(X).name=\"right\"\n",
    "bounding_box.faces.Min(X).name=\"left\"\n",
    "bounding_box.faces.Max(Y).name=\"back\"\n",
    "bounding_box.faces.Min(Y).name=\"front\"\n",
    "bounding_box.faces.Max(Z).name=\"top\"\n",
    "bounding_box.faces.Min(Z).name=\"bottom\"\n",
    "bounding_box.name=\"air\"\n",
    "\n",
    "bounding_box = bounding_box-coil_corner-coil_limb- plate"
   ]
  },
  {
   "cell_type": "code",
   "execution_count": null,
   "id": "852172ab",
   "metadata": {},
   "outputs": [],
   "source": [
    "geo = OCCGeometry(Glue([bounding_box, coil_corner, coil_limb, plate]))"
   ]
  },
  {
   "cell_type": "markdown",
   "id": "c9aa83bc-6fe8-4ebc-9017-0af7759f1ceb",
   "metadata": {},
   "source": [
    "Restrict around measerung points"
   ]
  },
  {
   "cell_type": "code",
   "execution_count": null,
   "id": "86391c8b-f348-4558-81d4-6579e4c7b60d",
   "metadata": {},
   "outputs": [],
   "source": [
    "mp = MeshingParameters ( maxh =1)\n",
    "# for A1B1 measurement\n",
    "[mp.RestrictH(x, 0.072, 0.034, h= 0.01/3) for x in xi_msm];\n",
    "# for A2B2 measurement\n",
    "[mp.RestrictH(x, 0.144, 0.034, h= 0.01/3) for x in xi_msm];\n",
    "# for A3B3 measurement\n",
    "[mp.RestrictH(x, 0.072, 0.019, h= 0.01/3) for x in xi_msm];\n",
    "# for A4B4 measurement\n",
    "[mp.RestrictH(x, 0.072, 0.000, h= 0.01/3) for x in xi_msm];\n"
   ]
  },
  {
   "cell_type": "code",
   "execution_count": null,
   "id": "420e17cb",
   "metadata": {},
   "outputs": [],
   "source": [
    "mesh = Mesh(geo.GenerateMesh(maxh=0.1, mp=mp))\n",
    "mesh.Curve(3)\n",
    "print(\"mats\", set(mesh.GetMaterials()))\n",
    "print(\"number of elements\", mesh.ne)\n",
    "clipping_settings={\"Clipping\":{\"enable\":True, \"z\":-1, \"dist\":0}}\n",
    "if False:\n",
    "    Draw(mesh, settings = clipping_settings);"
   ]
  },
  {
   "cell_type": "markdown",
   "id": "3f6f0ead-c730-46b0-8fa7-30f55652e8f3",
   "metadata": {},
   "source": [
    "## Assert Geometry"
   ]
  },
  {
   "cell_type": "code",
   "execution_count": null,
   "id": "9fd16cc0",
   "metadata": {},
   "outputs": [],
   "source": [
    "Vol_coil_should = 0.100 * (0.025*0.100*4 + (0.050**2-0.025**2) * np.pi)\n",
    "Vol_plate_should = 0.019 * (0.294*0.294-0.108*0.108)\n",
    "\n",
    "assert_almost_eqaul(Integrate(1, mesh, definedon=mesh.Materials(\"coil.*\")),  Vol_coil_should, rel_eps=1e-5)\n",
    "assert_almost_eqaul(Integrate(1, mesh, definedon=mesh.Materials(\"plate.*\")),  Vol_plate_should, rel_eps=1e-5)"
   ]
  },
  {
   "cell_type": "markdown",
   "id": "336f1579-8823-4efc-9e7b-4f95e512841e",
   "metadata": {},
   "source": [
    "## Define Current in Coil"
   ]
  },
  {
   "cell_type": "code",
   "execution_count": null,
   "id": "eae55fbe",
   "metadata": {},
   "outputs": [],
   "source": [
    "J_limb = CF((0, 0, 0))\n",
    "\n",
    "center_coil = (0.294-0.025-0.075, 0.025+0.075)\n",
    "#right\n",
    "J_limb += IfPos(x - center_coil[0] - (0.075 -0.005), CF((0, 1, 0)), CF((0, 0, 0))) # right\n",
    "J_limb += IfPos(x - center_coil[0] + (0.075 -0.005), CF((0, 0, 0)), CF((0, -1, 0))) # left\n",
    "J_limb += IfPos(y - center_coil[1] - (0.075 -0.005), CF((-1, 0, 0)), CF((0, 0, 0))) # top\n",
    "J_limb += IfPos(y - center_coil[1] + (0.075 -0.005), CF((0, 0, 0)), CF((1, 0, 0))) # bottom\n",
    "\n",
    "J_corner = CF((0, 0, 0))\n",
    "#top right\n",
    "J_curve_shifted = lambda x_shifted, y_shifted : 1/sqrt(x_shifted**2 + y_shifted**2) * CF((-y_shifted, x_shifted, 0))\n",
    "\n",
    "x_center, y_center = x - center_coil[0], y - center_coil[1]\n",
    "# top right\n",
    "x_shifted, y_shifted = x - center_coil[0] - (0.075 - 0.025), y - center_coil[1] - (0.075 - 0.025)\n",
    "J_corner += IfPos(x_center, IfPos(y_center, J_curve_shifted(x_shifted, y_shifted),  CF((0, 0, 0))), CF((0, 0, 0))) \n",
    "#bottom right\n",
    "x_shifted, y_shifted = x - center_coil[0] - (0.075 - 0.025), y - center_coil[1] + (0.075 - 0.025)\n",
    "J_corner += IfPos(x_center, IfPos(y_center, CF((0, 0, 0)), J_curve_shifted(x_shifted, y_shifted)), CF((0, 0, 0))) \n",
    "#bottom left\n",
    "x_shifted, y_shifted = x - center_coil[0] + (0.075 - 0.025), y - center_coil[1] + (0.075 - 0.025)\n",
    "J_corner += IfPos(x_center, CF((0, 0, 0)), IfPos(y_center, CF((0, 0, 0)), J_curve_shifted(x_shifted, y_shifted))) \n",
    "#top left\n",
    "x_shifted, y_shifted = x - center_coil[0] + (0.075 - 0.025), y - center_coil[1] - (0.075 - 0.025)\n",
    "J_corner += IfPos(x_center, CF((0, 0, 0)), IfPos(y_center, J_curve_shifted(x_shifted, y_shifted), CF((0, 0, 0)))) \n",
    "\n",
    "J_coil = mesh.MaterialCF({\"coil_limb\":J_limb, \"coil_corner\":J_corner}, default=CF((0, 0, 0)))\n"
   ]
  },
  {
   "cell_type": "code",
   "execution_count": null,
   "id": "058aa1f2",
   "metadata": {},
   "outputs": [],
   "source": [
    "clipping_settings={\"Clipping\":{\"enable\":True, \"z\":-1, \"dist\":-0.05}, \"Objects\":{\"Clipping Plane\":False, \"Vectors\":True}, \"Vectors\":{\"grid_size\":100}}\n",
    "clipping_settings.update({\"camera\":{\"transformations\":[{\"type\":\"move\", \"dir\":(0,0,1), \"dist\":1.9}]}})\n",
    "Draw(J_coil, mesh,settings=clipping_settings, draw_surf=False); # top right, mesh, settings=clipping_settings)"
   ]
  },
  {
   "cell_type": "markdown",
   "id": "cc062c71-70e2-4350-a3e4-d2ee37baed44",
   "metadata": {},
   "source": [
    "## FEM"
   ]
  },
  {
   "cell_type": "code",
   "execution_count": null,
   "id": "f970b97e-2a26-4586-8805-d1d1c953fc03",
   "metadata": {},
   "outputs": [],
   "source": [
    "mu = 4e-7*np.pi\n",
    "sigma = mesh.MaterialCF({\"plate\":3.526e7}, default=1)\n",
    "\n",
    "freq = Parameter(50)\n",
    "order0 = 1"
   ]
  },
  {
   "cell_type": "code",
   "execution_count": null,
   "id": "a3bcff43-b658-49ce-a37d-f34a9c27214d",
   "metadata": {},
   "outputs": [],
   "source": [
    "J0 = 2742 / (0.025 * 0.100)\n",
    "print(f\"J0{J0} A/m**2\")\n",
    "omega = freq * np.pi * 2\n",
    "\n",
    "def calc_it():\n",
    "    fesA = HCurl(mesh, order=order0, dirichlet=\"top|back|right\", complex=True)\n",
    "    print(\"free dofs\", sum(fesA.FreeDofs()))\n",
    "    u, v = fesA.TnT()\n",
    "    A = GridFunction(fesA, \"A\")\n",
    "    B = curl(A)\n",
    "    J = -sigma * 1j * omega * A\n",
    "    \n",
    "    a = BilinearForm(fesA, symmetric=True)\n",
    "    a += 1/mu * curl(u) * curl(v) * dx\n",
    "    if freq.Get() > 0:\n",
    "        a += 1j* omega * sigma * u *v * dx\n",
    "    else:\n",
    "        # regularisation\n",
    "        a += 1 * u * v * dx\n",
    "    \n",
    "    f = LinearForm(fesA)\n",
    "    f += -J0*J_coil*v * dx(\"coil.*\")\n",
    "    \n",
    "    pre = Preconditioner(a, type=\"direct\", inverse=\"sparsecholesky\")\n",
    "    with TaskManager():\n",
    "        solvers.BVP(bf=a, lf = f, pre=pre, gf=A)\n",
    "\n",
    "    return {\"A\":A, \"B\":B, \"J\":J}\n",
    "\n",
    "with TaskManager():\n",
    "    ret = calc_it()\n",
    "B, J = ret[\"B\"], ret[\"J\"]"
   ]
  },
  {
   "cell_type": "markdown",
   "id": "8ed870db-4f42-4ef7-8855-ce36de4953ed",
   "metadata": {},
   "source": [
    "## Draw the B and J field"
   ]
  },
  {
   "cell_type": "code",
   "execution_count": null,
   "id": "58b9fba6-dcd8-4d4e-b9ea-cbb8cf016948",
   "metadata": {},
   "outputs": [],
   "source": [
    "clipping_settings={\"Clipping\":{\"enable\":True, \"y\":1, \"z\":0, \"dist\":0.1}, \"Objects\":{\"Clipping Plane\":False, \"Vectors\":True}, \"Vectors\":{\"grid_size\":100}}\n",
    "\n",
    "clipping_settings.update({\"camera\":{\"transformations\":[{\"type\":\"rotateX\", \"angle\":-90}, {\"type\":\"move\", \"dir\":(0,0,1.5), \"dist\":1}]}})\n",
    "Draw(B.real, mesh, settings=clipping_settings, max = 10e-3, min = 0);"
   ]
  },
  {
   "cell_type": "code",
   "execution_count": null,
   "id": "6ec2983a-647d-4fb8-8660-369417b01841",
   "metadata": {},
   "outputs": [],
   "source": [
    "clipping_settings={\"Clipping\":{\"enable\":True, \"y\":0, \"z\":-1, \"dist\":-0.132}, \"Objects\":{\"Clipping Plane\":False, \"Vectors\":True}, \"Vectors\":{\"grid_size\":150}}\n",
    "\n",
    "clipping_settings.update({\"camera\":{\"transformations\":[{\"type\":\"move\", \"dir\":(0,0,1), \"dist\":2.2}]}})\n",
    "Draw(mesh.MaterialCF({\"plate\":J.imag}, default = CF((0, 0, 0))), mesh, settings = clipping_settings, min = 0, max = 8e5);"
   ]
  },
  {
   "cell_type": "markdown",
   "id": "35818788-374f-4dca-9736-395498f49140",
   "metadata": {},
   "source": [
    "## Evaluation of B and J according to Description"
   ]
  },
  {
   "cell_type": "code",
   "execution_count": null,
   "id": "7d87cb0a-a189-426a-a9db-36efd2ddab64",
   "metadata": {},
   "outputs": [],
   "source": [
    "Bz_A1B1_50Hz_ref = np.array([ -4.9  -1.16j, -17.88 +2.48j, -22.13 +4.15j, -20.19 +4.j,   -15.67 +3.07j,\n",
    "   0.36 +2.31j,  43.64 +1.89j,  78.11 +4.97j,  71.55+12.61j , 60.44+14.15j,\n",
    "  53.91+13.04j,  52.62+12.4j,  53.81+12.05j, 56.91+12.27j,  59.24+12.66j,\n",
    "  52.78 +9.96j,  27.61 +2.26j])\n",
    "               \n",
    "Bz_A2B2_50Hz_ref = np.array([-1.83-1.63j, -8.5-0.6j, -13.6-0.43j, -15.21+0.11j, -14.48+1.26j, -5.62+3.4j,\n",
    " 28.77+6.53j, 60.34+10.25j, 61.84+11.83j, 56.64+11.83j, 53.4+11.01j, 52.36+10.58j, 53.93+10.8j, 56.82+10.54j, \n",
    " 59.48+10.62j, 52.08+9.03j, 26.56+1.79j])\n",
    "\n",
    "Jy_A3B3_50Hz_ref = np.array([0.249-0.629j,  0.685-0.873j,  0+0j,  0+0j,  0+0j,  0+0j,  0+0j,  -0.015-0.593j,\n",
    "             -0.103-0.249j,  -0.061-0.101j,  -0.004-0.001j,  0.051+0.087j,  0.095+0.182j,  0.135+0.322j,  \n",
    "             0.104+0.555j,  -0.321+0.822j,  -0.687+0.855j,])\n",
    "\n",
    "\n",
    "Jy_A4B4_50Hz_ref = np.array([0.461-0.662j,  0.621-0.664j,  0+0j,  0+0j,  0+0j,  0+0j,  0+0j,  1.573-1.027j,\n",
    "             0.556-0.757j,  0.237-0.364j,  0.097-0.149j,  -0.034+0.015j,  -0.157+0.154j,  -0.305+0.311j,\n",
    "             -0.478+0.508j,  -0.66+0.747j,  -1.217+1.034j])\n"
   ]
  },
  {
   "cell_type": "markdown",
   "id": "c3a739a3-7b13-4334-ac8a-cf99338c2f00",
   "metadata": {},
   "source": [
    "### Bz on A1 to B1"
   ]
  },
  {
   "cell_type": "code",
   "execution_count": null,
   "id": "d8845fd2-bc16-4e88-8d5c-0a5dd5e9eb0b",
   "metadata": {},
   "outputs": [],
   "source": [
    "Bz_A1B1 = np.array([B[2](mesh(x, 0.072, 0.034)) for x in xi_msm])\n",
    "\n",
    "plt.figure(1)\n",
    "plt.clf()\n",
    "plt.title(\"Evaluate B.z on Line A1 - B1\")\n",
    "plt.plot(xi_msm, -1e4 * Bz_A1B1.real, \"b-x\", label=\"sim Bz.real\")\n",
    "plt.plot(xi_msm, 1e4 * Bz_A1B1.imag, \"r-x\", label=\"sim Bz.imag\")\n",
    "plt.plot(xi_msm, Bz_A1B1_50Hz_ref.real, \"b--x\", label=\"ref Bz.real\")\n",
    "plt.plot(xi_msm, Bz_A1B1_50Hz_ref.imag, \"r--x\", label=\"ref Bz.imag\")\n",
    "plt.ylabel(\"B in Gauss = $10^{-4}$ T\")\n",
    "plt.legend()\n",
    "plt.show()"
   ]
  },
  {
   "cell_type": "markdown",
   "id": "7821bedf-1339-42fb-b603-eac3b64645bb",
   "metadata": {},
   "source": [
    "### Bz on A2 to B2"
   ]
  },
  {
   "cell_type": "code",
   "execution_count": null,
   "id": "4680505a-c744-4b72-9c1e-23de3f6cc04d",
   "metadata": {},
   "outputs": [],
   "source": [
    "Bz_A2B2 = np.array([B[2](mesh(x, 0.144, 0.034)) for x in xi_msm])\n",
    "\n",
    "plt.figure(2)\n",
    "plt.clf()\n",
    "plt.title(\"Evaluate B.z on Line A2 - B2\")\n",
    "plt.plot(xi_msm, -1e4 * Bz_A2B2.real, \"b-x\", label=\"sim Bz.real\")\n",
    "plt.plot(xi_msm, 1e4 * Bz_A2B2.imag, \"r-x\", label=\"sim Bz.imag\")\n",
    "plt.plot(xi_msm, Bz_A2B2_50Hz_ref.real, \"b--x\", label=\"ref Bz.real\")\n",
    "plt.plot(xi_msm, Bz_A2B2_50Hz_ref.imag, \"r--x\", label=\"ref Bz.imag\")\n",
    "plt.ylabel(\"B in Gauss = $10^{-4}$ T\")\n",
    "plt.legend()\n",
    "plt.show()"
   ]
  },
  {
   "cell_type": "markdown",
   "id": "898ce6fe-569d-4eaf-9a8f-5ec802faf434",
   "metadata": {},
   "source": [
    "### Jy on A3 to B3"
   ]
  },
  {
   "cell_type": "code",
   "execution_count": null,
   "id": "1d2c8370-884b-45f3-9c24-f93121d6fe00",
   "metadata": {},
   "outputs": [],
   "source": [
    "Jy_A3B3 = np.array([J[1](mesh(x, 0.072, 0.019-1e-5)) for x in xi_msm])\n",
    "\n",
    "plt.figure(3)\n",
    "plt.clf()\n",
    "plt.title(\"Evaluate J.y on Line A3 - B3\")\n",
    "plt.plot( xi_msm, 1e-6 *Jy_A3B3.real, \"b-x\", label=\"sim Jy.real\")\n",
    "plt.plot( xi_msm, 1e-6 * Jy_A3B3.imag, \"r-x\", label=\"sim Jy.imag\")\n",
    "plt.plot(xi_msm, Jy_A3B3_50Hz_ref.real, \"b--x\", label=\"ref Jy.real\")\n",
    "plt.plot(xi_msm, Jy_A3B3_50Hz_ref.imag, \"r--x\", label=\"ref Jy.imag\")\n",
    "plt.ylabel(\"J in $10^{6}$ A/mm$^2$\")\n",
    "plt.ylim([min(list(Jy_A3B3_50Hz_ref.real)+list(Jy_A3B3_50Hz_ref.imag)), max(list(Jy_A3B3_50Hz_ref.real)+list(Jy_A3B3_50Hz_ref.imag))])\n",
    "plt.legend()\n",
    "plt.show()"
   ]
  },
  {
   "cell_type": "markdown",
   "id": "bc0a3ead-1af4-406f-bfd7-3342f8f72bde",
   "metadata": {},
   "source": [
    "### Jy on A4 to B4"
   ]
  },
  {
   "cell_type": "code",
   "execution_count": null,
   "id": "d90b3ac3-2f87-4174-90f4-fa54f784fd0c",
   "metadata": {},
   "outputs": [],
   "source": [
    "Jy_A4B4 = np.array([J[1](mesh(x, 0.072, 0.0+1e-3)) for x in xi_msm])\n",
    "\n",
    "plt.figure(4)\n",
    "plt.clf()\n",
    "plt.title(\"Evaluate J.y on Line A4 - B4\")\n",
    "plt.plot( xi_msm, - 1e-6 *Jy_A4B4.imag, \"b-x\", label=\"sim Jy.real\")\n",
    "plt.plot( xi_msm, 1e-6 * Jy_A4B4.real, \"r-x\", label=\"sim Jy.imag\")\n",
    "plt.plot(xi_msm, Jy_A4B4_50Hz_ref.real, \"b--x\", label=\"ref Jy.real\")\n",
    "plt.plot(xi_msm, Jy_A4B4_50Hz_ref.imag, \"r--x\", label=\"ref Jy.imag\")\n",
    "plt.ylabel(\"J in $10^{6}$ A/mm$^2$\")\n",
    "plt.ylim([min(list(Jy_A4B4_50Hz_ref.real)+list(Jy_A4B4_50Hz_ref.imag)), max(list(Jy_A4B4_50Hz_ref.real)+list(Jy_A4B4_50Hz_ref.imag))])\n",
    "plt.legend()\n",
    "plt.show()"
   ]
  },
  {
   "cell_type": "code",
   "execution_count": null,
   "id": "f98b0fb0-0950-4b27-80fa-2be841b28e43",
   "metadata": {},
   "outputs": [],
   "source": []
  },
  {
   "cell_type": "code",
   "execution_count": null,
   "id": "71253a92-6e85-441d-a5db-fe5bdb0212a4",
   "metadata": {},
   "outputs": [],
   "source": []
  },
  {
   "cell_type": "code",
   "execution_count": null,
   "id": "e4fff54a-6b2f-42f5-aa7f-89879a25a2e6",
   "metadata": {},
   "outputs": [],
   "source": []
  }
 ],
 "metadata": {
  "kernelspec": {
   "display_name": "Python 3 (ipykernel)",
   "language": "python",
   "name": "python3"
  },
  "language_info": {
   "codemirror_mode": {
    "name": "ipython",
    "version": 3
   },
   "file_extension": ".py",
   "mimetype": "text/x-python",
   "name": "python",
   "nbconvert_exporter": "python",
   "pygments_lexer": "ipython3",
   "version": "3.10.12"
  }
 },
 "nbformat": 4,
 "nbformat_minor": 5
}
