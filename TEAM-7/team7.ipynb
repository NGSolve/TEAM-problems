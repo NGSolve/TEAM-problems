{
 "cells": [
  {
   "cell_type": "markdown",
   "id": "2b17ab27",
   "metadata": {},
   "source": [
    "# TEAM benchmark 7\n",
    "\n",
    "https://www.compumag.org/wp/wp-content/uploads/2018/06/problem7.pdf\n",
    "\n",
    "Solve\n",
    "\\begin{align*}\n",
    "\\nabla\\times(\\nu\\nabla\\times\\mathbf{A}) + j\\omega\\sigma \\mathbf{A} = \\mathbf{J}\n",
    "\\end{align*}\n",
    "with\n",
    "\\begin{align*}\n",
    "\\mathbf{A}\\times\\mathbf{n} = \\mathbf{0}\n",
    "\\end{align*}\n",
    "on the far boundary. The magnetic permability $\\mu_0 =\\nu_0^{-1} = 4\\pi \\cdot 10^{-7}$ H/m  is set to the permability of vacuum and the electric conductivity $\\sigma_{Al} = 3.526\\cdot10^7$ S/m in the aluminum plate is used.\n"
   ]
  },
  {
   "cell_type": "code",
   "execution_count": null,
   "id": "e221d400",
   "metadata": {},
   "outputs": [],
   "source": [
    "from netgen.occ import *\n",
    "from ngsolve import *\n",
    "from ngsolve.webgui import Draw\n",
    "import matplotlib.pyplot as plt\n",
    "%matplotlib widget\n",
    "import numpy as np\n",
    "from netgen.meshing import MeshingParameters"
   ]
  },
  {
   "cell_type": "markdown",
   "id": "e7d4eadc-35e7-439e-8185-33242ba0b2b4",
   "metadata": {},
   "source": [
    "## Generate Geometry"
   ]
  },
  {
   "cell_type": "markdown",
   "id": "ad397997",
   "metadata": {},
   "source": [
    "The aluminum plate:"
   ]
  },
  {
   "cell_type": "code",
   "execution_count": null,
   "id": "3d762541",
   "metadata": {},
   "outputs": [],
   "source": [
    "wpplate = WorkPlane(Axes((0,0,0),Z,X))\n",
    "f = wpplate.Rectangle(0.294,0.294).MoveTo(0.018,0.018).Rectangle(0.108,0.108).Reverse().Face()\n",
    "plate = f.Extrude(0.019)\n",
    "\n",
    "plate.faces.maxh=0.02\n",
    "plate.solids.name=\"plate\"\n",
    "plate.faces.col=(0.3,0.3,0.3,1)"
   ]
  },
  {
   "cell_type": "markdown",
   "id": "e88feb86",
   "metadata": {},
   "source": [
    "The coil:"
   ]
  },
  {
   "cell_type": "code",
   "execution_count": null,
   "id": "f7429c69-908f-41d2-be87-4b8249e76079",
   "metadata": {},
   "outputs": [],
   "source": [
    "wp = WorkPlane(Axes(p=(0.294,0.000,0.049), n=Z, h=Y)) # origin in \n",
    "\n",
    "coil2di = wp.MoveTo(0.100,0.100).RectangleC(0.100,0.100).Offset(0.025).Face()\n",
    "coil2do = wp.MoveTo(0.100,0.100).RectangleC(0.100,0.100).Offset(0.050).Face()\n",
    "coil2d = coil2do-coil2di\n",
    "\n",
    "cutout = wp.MoveTo(0.100,0.100).RectangleC(0.300,0.100).Face() + \\\n",
    "         wp.MoveTo(0.100,0.100).RectangleC(0.100,0.300).Face()\n",
    "\n",
    "coil2d = Glue( [coil2d*cutout, coil2d-cutout])\n",
    "\n",
    "Draw (coil2d)\n",
    "coil = coil2d.Extrude(0.100)\n",
    "coil.solids.name=\"coil\"\n",
    "Draw (coil);"
   ]
  },
  {
   "cell_type": "code",
   "execution_count": null,
   "id": "f640c195-1d9d-403a-946f-e759efa39f1b",
   "metadata": {},
   "outputs": [],
   "source": [
    "bounding_box = Box(Pnt(-.2, -.2, -.2), Pnt(0.5, 0.5, 0.5))\n",
    "bounding_box.faces.Max(X).name=\"right\"\n",
    "bounding_box.faces.Min(X).name=\"left\"\n",
    "bounding_box.faces.Max(Y).name=\"back\"\n",
    "bounding_box.faces.Min(Y).name=\"front\"\n",
    "bounding_box.faces.Max(Z).name=\"top\"\n",
    "bounding_box.faces.Min(Z).name=\"bottom\"\n",
    "bounding_box.solids.name=\"air\"\n",
    "\n",
    "bounding_box.faces.col = (0,0,1,0.3)\n",
    "\n",
    "bounding_box = bounding_box-coil-plate\n",
    "shape = Glue([ coil, plate, bounding_box])\n",
    "Draw (shape);"
   ]
  },
  {
   "cell_type": "code",
   "execution_count": null,
   "id": "852172ab",
   "metadata": {},
   "outputs": [],
   "source": [
    "geo = OCCGeometry(shape)"
   ]
  },
  {
   "cell_type": "markdown",
   "id": "c9aa83bc-6fe8-4ebc-9017-0af7759f1ceb",
   "metadata": {},
   "source": [
    "Restrict around measerung points"
   ]
  },
  {
   "cell_type": "code",
   "execution_count": null,
   "id": "86391c8b-f348-4558-81d4-6579e4c7b60d",
   "metadata": {},
   "outputs": [],
   "source": [
    "xi_msm = np.array([0, 18, 36, 54, 72, 90, 108, 126, 144, 162, 180, 198, 216, 234, 252, 270, 288]) * 1e-3\n",
    "\n",
    "mp = MeshingParameters ( maxh =1)\n",
    "# for A1B1 measurement\n",
    "[mp.RestrictH(x, 0.072, 0.034, h= 0.01/3) for x in xi_msm];\n",
    "# for A2B2 measurement\n",
    "[mp.RestrictH(x, 0.144, 0.034, h= 0.01/3) for x in xi_msm];\n",
    "# for A3B3 measurement\n",
    "[mp.RestrictH(x, 0.072, 0.019, h= 0.01/3) for x in xi_msm];\n",
    "# for A4B4 measurement\n",
    "[mp.RestrictH(x, 0.072, 0.000, h= 0.01/3) for x in xi_msm];\n"
   ]
  },
  {
   "cell_type": "code",
   "execution_count": null,
   "id": "420e17cb",
   "metadata": {},
   "outputs": [],
   "source": [
    "mesh = Mesh(geo.GenerateMesh(maxh=0.1, mp=mp))\n",
    "mesh.Curve(3)\n",
    "print(\"mats\", set(mesh.GetMaterials()))\n",
    "print(\"number of elements:\", mesh.ne)\n",
    "clipping_settings={\"Clipping\":{\"enable\":True, \"z\":-1, \"dist\":0}}\n",
    "\n",
    "Draw(mesh, settings = clipping_settings);"
   ]
  },
  {
   "cell_type": "markdown",
   "id": "336f1579-8823-4efc-9e7b-4f95e512841e",
   "metadata": {},
   "source": [
    "## Define Current in Coil"
   ]
  },
  {
   "cell_type": "code",
   "execution_count": null,
   "id": "eae55fbe",
   "metadata": {},
   "outputs": [],
   "source": [
    "coilrect_xmin, coilrect_xmax = 0.294 - 0.150, 0.294-0.050\n",
    "coilrect_ymin, coilrect_ymax = 0.050, 0.150\n",
    "\n",
    "def Project(val, minval, maxval):\n",
    "    return IfPos(val-minval, IfPos(val-maxval, maxval, val), minval)\n",
    "\n",
    "projx = Project(x, coilrect_xmin, coilrect_xmax)\n",
    "projy = Project(y, coilrect_ymin, coilrect_ymax)\n",
    "Jtau = CF( (projy-y, x-projx, 0) )\n",
    "Jtau /= Norm(Jtau)\n",
    "J_coil = mesh.MaterialCF({\"coil.*\":Jtau}, default=CF((0, 0, 0)))"
   ]
  },
  {
   "cell_type": "code",
   "execution_count": null,
   "id": "058aa1f2",
   "metadata": {},
   "outputs": [],
   "source": [
    "clipping_settings={\"Clipping\":{\"enable\":True, \"z\":-1, \"dist\":-0.05}, \"Objects\":{\"Clipping Plane\":False, \"Vectors\":True}, \"Vectors\":{\"grid_size\":100}}\n",
    "clipping_settings.update({\"camera\":{\"transformations\":[{\"type\":\"move\", \"dir\":(0,0,1), \"dist\":1.9}]}})\n",
    "Draw(J_coil, mesh,settings=clipping_settings, draw_surf=False); # top right, mesh, settings=clipping_settings)"
   ]
  },
  {
   "cell_type": "markdown",
   "id": "cc062c71-70e2-4350-a3e4-d2ee37baed44",
   "metadata": {},
   "source": [
    "## FEM"
   ]
  },
  {
   "cell_type": "code",
   "execution_count": null,
   "id": "f970b97e-2a26-4586-8805-d1d1c953fc03",
   "metadata": {},
   "outputs": [],
   "source": [
    "mu = 4*pi*1e-7\n",
    "sigma = mesh.MaterialCF({\"plate\":35.26e6}, default=1)"
   ]
  },
  {
   "cell_type": "code",
   "execution_count": null,
   "id": "a3bcff43-b658-49ce-a37d-f34a9c27214d",
   "metadata": {},
   "outputs": [],
   "source": [
    "J0 = 2742 / (0.025 * 0.100)\n",
    "print(f\"J0 = {J0} A/m**2\")\n",
    "\n",
    "def Solve(f):\n",
    "    omega = 2*pi*f\n",
    "    fes = HCurl(mesh, order=3, dirichlet=\"top|back|right|bottom|front|left\", complex=True)\n",
    "    # fes = HCurl(mesh, order=3, complex=True)\n",
    "    print(\"free dofs\", sum(fes.FreeDofs()))\n",
    "    u, v = fes.TnT()\n",
    "    \n",
    "    a = BilinearForm(fes, symmetric=True)\n",
    "    a += 1/mu*curl(u)*curl(v)*dx\n",
    "    a += 1j*omega*sigma * u*v*dx\n",
    "    \n",
    "    f = LinearForm(-J0*J_coil*v * dx(\"coil.*\"))\n",
    "    \n",
    "    A = GridFunction(fes)\n",
    "    pre = Preconditioner(a, type=\"bddc\", inverse=\"sparsecholesky\")\n",
    "    with TaskManager():\n",
    "        a.Assemble()\n",
    "        f.Assemble()\n",
    "        inv = solvers.CGSolver(mat=a.mat, pre=pre, printrates='\\r')\n",
    "        A.vec[:] = inv*f.vec\n",
    "\n",
    "    B = curl(A)\n",
    "    J = -1j*omega*sigma * A\n",
    "    return {\"A\":A, \"B\":B, \"J\":J}\n",
    "\n",
    "with TaskManager():\n",
    "    ret = Solve(f=50)\n",
    "B, J = ret[\"B\"], ret[\"J\"]"
   ]
  },
  {
   "cell_type": "markdown",
   "id": "8ed870db-4f42-4ef7-8855-ce36de4953ed",
   "metadata": {},
   "source": [
    "## Draw the B and J field"
   ]
  },
  {
   "cell_type": "code",
   "execution_count": null,
   "id": "58b9fba6-dcd8-4d4e-b9ea-cbb8cf016948",
   "metadata": {},
   "outputs": [],
   "source": [
    "clipping_settings={\"Clipping\":{\"enable\":True, \"y\":1, \"z\":0, \"dist\":0.1}, \"Objects\":{\"Clipping Plane\":False, \"Vectors\":True}, \"Vectors\":{\"grid_size\":100}}\n",
    "clipping_settings.update({\"camera\":{\"transformations\":[{\"type\":\"rotateX\", \"angle\":-90}, {\"type\":\"move\", \"dir\":(0,0,1.5), \"dist\":1}]}})\n",
    "Draw(B.real, mesh, settings=clipping_settings, max = 10e-3, min = 0, draw_surf=False);"
   ]
  },
  {
   "cell_type": "code",
   "execution_count": null,
   "id": "6ec2983a-647d-4fb8-8660-369417b01841",
   "metadata": {},
   "outputs": [],
   "source": [
    "clipping_settings={\"Clipping\":{\"enable\":True, \"y\":0, \"z\":-1, \"dist\":-0.132}, \"Objects\":{\"Clipping Plane\":False, \"Vectors\":True}, \"Vectors\":{\"grid_size\":150}}\n",
    "\n",
    "clipping_settings.update({\"camera\":{\"transformations\":[{\"type\":\"move\", \"dir\":(0,0,1), \"dist\":2.2}]}})\n",
    "Draw(mesh.MaterialCF({\"plate\":J.imag}, default = CF((0, 0, 0))), mesh, settings = clipping_settings, min = 0, max = 8e5);"
   ]
  },
  {
   "cell_type": "markdown",
   "id": "35818788-374f-4dca-9736-395498f49140",
   "metadata": {},
   "source": [
    "## Evaluation of B and J according to Description"
   ]
  },
  {
   "cell_type": "code",
   "execution_count": null,
   "id": "7d87cb0a-a189-426a-a9db-36efd2ddab64",
   "metadata": {},
   "outputs": [],
   "source": [
    "Bz_A1B1_50Hz_ref = np.array([ -4.9  -1.16j, -17.88 +2.48j, -22.13 +4.15j, -20.19 +4.j,   -15.67 +3.07j,\n",
    "   0.36 +2.31j,  43.64 +1.89j,  78.11 +4.97j,  71.55+12.61j , 60.44+14.15j,\n",
    "  53.91+13.04j,  52.62+12.4j,  53.81+12.05j, 56.91+12.27j,  59.24+12.66j,\n",
    "  52.78 +9.96j,  27.61 +2.26j])\n",
    "               \n",
    "Bz_A2B2_50Hz_ref = np.array([-1.83-1.63j, -8.5-0.6j, -13.6-0.43j, -15.21+0.11j, -14.48+1.26j, -5.62+3.4j,\n",
    " 28.77+6.53j, 60.34+10.25j, 61.84+11.83j, 56.64+11.83j, 53.4+11.01j, 52.36+10.58j, 53.93+10.8j, 56.82+10.54j, \n",
    " 59.48+10.62j, 52.08+9.03j, 26.56+1.79j])\n",
    "\n",
    "Jy_A3B3_50Hz_ref = np.array([0.249-0.629j,  0.685-0.873j,  0+0j,  0+0j,  0+0j,  0+0j,  0+0j,  -0.015-0.593j,\n",
    "             -0.103-0.249j,  -0.061-0.101j,  -0.004-0.001j,  0.051+0.087j,  0.095+0.182j,  0.135+0.322j,  \n",
    "             0.104+0.555j,  -0.321+0.822j,  -0.687+0.855j,])\n",
    "\n",
    "\n",
    "Jy_A4B4_50Hz_ref = np.array([0.461-0.662j,  0.621-0.664j,  0+0j,  0+0j,  0+0j,  0+0j,  0+0j,  1.573-1.027j,\n",
    "             0.556-0.757j,  0.237-0.364j,  0.097-0.149j,  -0.034+0.015j,  -0.157+0.154j,  -0.305+0.311j,\n",
    "             -0.478+0.508j,  -0.66+0.747j,  -1.217+1.034j])\n"
   ]
  },
  {
   "cell_type": "markdown",
   "id": "c3a739a3-7b13-4334-ac8a-cf99338c2f00",
   "metadata": {},
   "source": [
    "### Bz on A1 to B1"
   ]
  },
  {
   "cell_type": "code",
   "execution_count": null,
   "id": "d8845fd2-bc16-4e88-8d5c-0a5dd5e9eb0b",
   "metadata": {},
   "outputs": [],
   "source": [
    "Bz_A1B1 = np.array([B[2](mesh(x, 0.072, 0.034)) for x in xi_msm])\n",
    "\n",
    "plt.figure(1)\n",
    "plt.clf()\n",
    "plt.title(\"Evaluate B.z on Line A1 - B1\")\n",
    "plt.plot(xi_msm, -1e4 * Bz_A1B1.real, \"b-x\", label=\"sim Bz.real\")\n",
    "plt.plot(xi_msm, 1e4 * Bz_A1B1.imag, \"r-x\", label=\"sim Bz.imag\")\n",
    "plt.plot(xi_msm, Bz_A1B1_50Hz_ref.real, \"b--x\", label=\"ref Bz.real\")\n",
    "plt.plot(xi_msm, Bz_A1B1_50Hz_ref.imag, \"r--x\", label=\"ref Bz.imag\")\n",
    "plt.ylabel(\"B in Gauss = $10^{-4}$ T\")\n",
    "plt.legend()\n",
    "plt.show()"
   ]
  },
  {
   "cell_type": "markdown",
   "id": "7821bedf-1339-42fb-b603-eac3b64645bb",
   "metadata": {},
   "source": [
    "### Bz on A2 to B2"
   ]
  },
  {
   "cell_type": "code",
   "execution_count": null,
   "id": "4680505a-c744-4b72-9c1e-23de3f6cc04d",
   "metadata": {},
   "outputs": [],
   "source": [
    "Bz_A2B2 = np.array([B[2](mesh(x, 0.144, 0.034)) for x in xi_msm])\n",
    "\n",
    "plt.figure(2)\n",
    "plt.clf()\n",
    "plt.title(\"Evaluate B.z on Line A2 - B2\")\n",
    "plt.plot(xi_msm, -1e4 * Bz_A2B2.real, \"b-x\", label=\"sim Bz.real\")\n",
    "plt.plot(xi_msm, 1e4 * Bz_A2B2.imag, \"r-x\", label=\"sim Bz.imag\")\n",
    "plt.plot(xi_msm, Bz_A2B2_50Hz_ref.real, \"b--x\", label=\"ref Bz.real\")\n",
    "plt.plot(xi_msm, Bz_A2B2_50Hz_ref.imag, \"r--x\", label=\"ref Bz.imag\")\n",
    "plt.ylabel(\"B in Gauss = $10^{-4}$ T\")\n",
    "plt.legend()\n",
    "plt.show()"
   ]
  },
  {
   "cell_type": "code",
   "execution_count": null,
   "id": "9a724ca7-6d8e-4925-bc78-bff960643620",
   "metadata": {},
   "outputs": [],
   "source": [
    "clipping = { \"function\" : True,  \"pnt\" : (0,0.072,0), \"vec\" : (0,1,0) }\n",
    "\n",
    "Draw (J[1].real, mesh, clipping = clipping, min=-0.5e6, max=0.5e6 )\n",
    "Draw (J[1].imag, mesh, clipping = clipping, min=-0.5e6, max=0.5e6 )"
   ]
  },
  {
   "cell_type": "markdown",
   "id": "898ce6fe-569d-4eaf-9a8f-5ec802faf434",
   "metadata": {},
   "source": [
    "## Jy on A3 to B3 - plate top:"
   ]
  },
  {
   "cell_type": "code",
   "execution_count": null,
   "id": "ab3b453c-d8f8-435b-bd1b-14ca22bcf8fa",
   "metadata": {},
   "outputs": [],
   "source": [
    "Jy = GridFunction(H1(mesh, order=1, complex=True))\n",
    "Jy.Set (J[1], definedon=mesh.Materials(\"plate\"))\n",
    "xi_sim = np.linspace(0,0.288,500)"
   ]
  },
  {
   "cell_type": "code",
   "execution_count": null,
   "id": "1d2c8370-884b-45f3-9c24-f93121d6fe00",
   "metadata": {},
   "outputs": [],
   "source": [
    "# Jy_A3B3 = np.array([J[1](mesh(x, 0.072, 0.019-1e-5)) for x in xi_msm])\n",
    "Jy_A3B3_sim = np.array([Jy(mesh(x, 0.072, 0.019)) for x in xi_sim])\n",
    "\n",
    "plt.figure(3)\n",
    "plt.clf()\n",
    "plt.title(\"Evaluate J.y on Line A3 - B3\")\n",
    "plt.plot( xi_sim, 1e-6 *Jy_A3B3_sim.real, \"b\", label=\"sim Jy.real\")\n",
    "plt.plot( xi_sim, 1e-6 * Jy_A3B3_sim.imag, \"r\", label=\"sim Jy.imag\")\n",
    "plt.plot(xi_msm, Jy_A3B3_50Hz_ref.real, \"b--x\", label=\"ref Jy.real\")\n",
    "plt.plot(xi_msm, Jy_A3B3_50Hz_ref.imag, \"r--x\", label=\"ref Jy.imag\")\n",
    "plt.ylabel(\"J in $10^{6}$ A/mm$^2$\")\n",
    "plt.ylim([min(list(Jy_A3B3_50Hz_ref.real)+list(Jy_A3B3_50Hz_ref.imag)), max(list(Jy_A3B3_50Hz_ref.real)+list(Jy_A3B3_50Hz_ref.imag))])\n",
    "plt.legend()\n",
    "plt.show()"
   ]
  },
  {
   "cell_type": "markdown",
   "id": "bc0a3ead-1af4-406f-bfd7-3342f8f72bde",
   "metadata": {},
   "source": [
    "## Jy on A4 to B4  - plate bottom"
   ]
  },
  {
   "cell_type": "code",
   "execution_count": null,
   "id": "d90b3ac3-2f87-4174-90f4-fa54f784fd0c",
   "metadata": {},
   "outputs": [],
   "source": [
    "# Jy_A4B4 = np.array([J[1](mesh(x, 0.072, 0.0+1e-3)) for x in xi_msm])\n",
    "Jy_A4B4_sim = np.array([Jy(mesh(x, 0.072, 0.0+1e-3)) for x in xi_sim])\n",
    "\n",
    "plt.figure(4)\n",
    "plt.clf()\n",
    "plt.title(\"Evaluate J.y on Line A4 - B4\")\n",
    "plt.plot( xi_sim, - 1e-6 *Jy_A4B4_sim.imag, \"b\", label=\"sim Jy.real\")\n",
    "plt.plot( xi_sim, 1e-6 * Jy_A4B4_sim.real, \"r\", label=\"sim Jy.imag\")\n",
    "plt.plot(xi_msm, Jy_A4B4_50Hz_ref.real, \"b--x\", label=\"ref Jy.real\")\n",
    "plt.plot(xi_msm, Jy_A4B4_50Hz_ref.imag, \"r--x\", label=\"ref Jy.imag\")\n",
    "plt.ylabel(\"J in $10^{6}$ A/mm$^2$\")\n",
    "plt.ylim([min(list(Jy_A4B4_50Hz_ref.real)+list(Jy_A4B4_50Hz_ref.imag)), max(list(Jy_A4B4_50Hz_ref.real)+list(Jy_A4B4_50Hz_ref.imag))])\n",
    "plt.legend()\n",
    "plt.show()"
   ]
  },
  {
   "cell_type": "code",
   "execution_count": null,
   "id": "080383a6-1190-44eb-a9e3-6031bd6b4455",
   "metadata": {},
   "outputs": [],
   "source": []
  },
  {
   "cell_type": "code",
   "execution_count": null,
   "id": "12ca998a-ba1d-4d33-8cc4-53b2693fcef7",
   "metadata": {},
   "outputs": [],
   "source": []
  }
 ],
 "metadata": {
  "kernelspec": {
   "display_name": "Python 3 (ipykernel)",
   "language": "python",
   "name": "python3"
  },
  "language_info": {
   "codemirror_mode": {
    "name": "ipython",
    "version": 3
   },
   "file_extension": ".py",
   "mimetype": "text/x-python",
   "name": "python",
   "nbconvert_exporter": "python",
   "pygments_lexer": "ipython3",
   "version": "3.12.3"
  }
 },
 "nbformat": 4,
 "nbformat_minor": 5
}
