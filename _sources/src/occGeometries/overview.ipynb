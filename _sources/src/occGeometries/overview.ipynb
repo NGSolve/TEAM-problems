{
 "cells": [
  {
   "cell_type": "markdown",
   "id": "pregnant-temple",
   "metadata": {},
   "source": [
    "# Overview of the OCC Kernel Capabilities in Netgen/NGSolve\n"
   ]
  },
  {
   "cell_type": "code",
   "execution_count": null,
   "id": "advised-banking",
   "metadata": {},
   "outputs": [],
   "source": [
    "from netgen.occ import *\n",
    "from ngsolve.webgui import Draw\n",
    "from netgen.webgui import Draw as DrawGeo\n",
    "from ngsolve import Mesh"
   ]
  },
  {
   "cell_type": "markdown",
   "id": "based-relay",
   "metadata": {},
   "source": [
    "## Simple Objects\n",
    "\n",
    "A **Box** defined by two Points in 3D."
   ]
  },
  {
   "cell_type": "code",
   "execution_count": null,
   "id": "declared-jewel",
   "metadata": {},
   "outputs": [
    {
     "data": {
      "application/vnd.jupyter.widget-view+json": {
       "model_id": "75124fd020724c5da0439ce841e84373",
       "version_major": 2,
       "version_minor": 0
      },
      "text/plain": [
       "WebGuiWidget(value={'ngsolve_version': 'Netgen x.x', 'mesh_dim': 3, 'mesh_center': [0.5, 0.5, 0.5], 'mesh_radi…"
      ]
     },
     "metadata": {},
     "output_type": "display_data"
    },
    {
     "data": {
      "application/vnd.jupyter.widget-view+json": {
       "model_id": "75124fd020724c5da0439ce841e84373",
       "version_major": 2,
       "version_minor": 0
      },
      "text/plain": [
       "WebGuiWidget(value={'ngsolve_version': 'Netgen x.x', 'mesh_dim': 3, 'mesh_center': [0.5, 0.5, 0.5], 'mesh_radi…"
      ]
     },
     "metadata": {},
     "output_type": "display_data"
    }
   ],
   "source": [
    "p1 = Pnt(0,0,0)\n",
    "p2 = Pnt(1,1,1)\n",
    "box = Box(p1, p2)\n",
    "DrawGeo(box);"
   ]
  },
  {
   "cell_type": "markdown",
   "id": "overall-administration",
   "metadata": {},
   "source": [
    "A **Cylinder** defined by an origin point, a vector in direction of the axis, a radius and its height."
   ]
  },
  {
   "cell_type": "code",
   "execution_count": null,
   "id": "suitable-wilson",
   "metadata": {},
   "outputs": [
    {
     "data": {
      "application/vnd.jupyter.widget-view+json": {
       "model_id": "f293222a9f8649109d8bee929746f529",
       "version_major": 2,
       "version_minor": 0
      },
      "text/plain": [
       "WebGuiWidget(value={'ngsolve_version': 'Netgen x.x', 'mesh_dim': 3, 'mesh_center': [0.0, -4.163336342344337e-1…"
      ]
     },
     "metadata": {},
     "output_type": "display_data"
    },
    {
     "data": {
      "application/vnd.jupyter.widget-view+json": {
       "model_id": "f293222a9f8649109d8bee929746f529",
       "version_major": 2,
       "version_minor": 0
      },
      "text/plain": [
       "WebGuiWidget(value={'ngsolve_version': 'Netgen x.x', 'mesh_dim': 3, 'mesh_center': [0.0, -4.163336342344337e-1…"
      ]
     },
     "metadata": {},
     "output_type": "display_data"
    }
   ],
   "source": [
    "pOrigin = Pnt(0,0,0)\n",
    "direction = Dir(0,0,1)\n",
    "r = 0.25\n",
    "h = 2\n",
    "cyl = Cylinder(pOrigin, direction, r, h)\n",
    "DrawGeo(cyl);"
   ]
  },
  {
   "cell_type": "markdown",
   "id": "stretch-adoption",
   "metadata": {},
   "source": [
    "A **Sphere** defined by an origin point and a radius."
   ]
  },
  {
   "cell_type": "code",
   "execution_count": null,
   "id": "naked-european",
   "metadata": {},
   "outputs": [
    {
     "data": {
      "application/vnd.jupyter.widget-view+json": {
       "model_id": "ce0d5b1fb80a44fb8e6c9d82ca027afa",
       "version_major": 2,
       "version_minor": 0
      },
      "text/plain": [
       "WebGuiWidget(value={'ngsolve_version': 'Netgen x.x', 'mesh_dim': 3, 'mesh_center': [1.0, 1.0, 1.0], 'mesh_radi…"
      ]
     },
     "metadata": {},
     "output_type": "display_data"
    },
    {
     "data": {
      "application/vnd.jupyter.widget-view+json": {
       "model_id": "ce0d5b1fb80a44fb8e6c9d82ca027afa",
       "version_major": 2,
       "version_minor": 0
      },
      "text/plain": [
       "WebGuiWidget(value={'ngsolve_version': 'Netgen x.x', 'mesh_dim': 3, 'mesh_center': [1.0, 1.0, 1.0], 'mesh_radi…"
      ]
     },
     "metadata": {},
     "output_type": "display_data"
    }
   ],
   "source": [
    "pOrigin = Pnt(1,1,1)\n",
    "r = 0.5\n",
    "sphere = Sphere(pOrigin, r)\n",
    "DrawGeo(sphere);"
   ]
  },
  {
   "cell_type": "markdown",
   "id": "protective-contemporary",
   "metadata": {},
   "source": [
    "## Geometry Operations\n",
    "\n",
    "Geometries can be added, subtracted, multiplied, ..., with each other leading to the intuidive results.\n",
    "\n",
    "**Cutting**"
   ]
  },
  {
   "cell_type": "code",
   "execution_count": null,
   "id": "excellent-volleyball",
   "metadata": {},
   "outputs": [
    {
     "data": {
      "application/vnd.jupyter.widget-view+json": {
       "model_id": "6521e5d0f06e4dc4948baa3fd10f9784",
       "version_major": 2,
       "version_minor": 0
      },
      "text/plain": [
       "WebGuiWidget(value={'ngsolve_version': 'Netgen x.x', 'mesh_dim': 3, 'mesh_center': [0.4999999999999984, 0.4999…"
      ]
     },
     "metadata": {},
     "output_type": "display_data"
    },
    {
     "data": {
      "application/vnd.jupyter.widget-view+json": {
       "model_id": "6521e5d0f06e4dc4948baa3fd10f9784",
       "version_major": 2,
       "version_minor": 0
      },
      "text/plain": [
       "WebGuiWidget(value={'ngsolve_version': 'Netgen x.x', 'mesh_dim': 3, 'mesh_center': [0.4999999999999984, 0.4999…"
      ]
     },
     "metadata": {},
     "output_type": "display_data"
    }
   ],
   "source": [
    "cutbox = box - cyl - sphere\n",
    "DrawGeo(cutbox);"
   ]
  },
  {
   "cell_type": "markdown",
   "id": "assigned-assurance",
   "metadata": {},
   "source": [
    "**Intersection**"
   ]
  },
  {
   "cell_type": "code",
   "execution_count": null,
   "id": "comprehensive-anthony",
   "metadata": {},
   "outputs": [
    {
     "data": {
      "application/vnd.jupyter.widget-view+json": {
       "model_id": "425ad79b400743bf9f7f169ef7d0fa06",
       "version_major": 2,
       "version_minor": 0
      },
      "text/plain": [
       "WebGuiWidget(value={'ngsolve_version': 'Netgen x.x', 'mesh_dim': 3, 'mesh_center': [0.4999999999999984, 0.4999…"
      ]
     },
     "metadata": {},
     "output_type": "display_data"
    },
    {
     "data": {
      "application/vnd.jupyter.widget-view+json": {
       "model_id": "425ad79b400743bf9f7f169ef7d0fa06",
       "version_major": 2,
       "version_minor": 0
      },
      "text/plain": [
       "WebGuiWidget(value={'ngsolve_version': 'Netgen x.x', 'mesh_dim': 3, 'mesh_center': [0.4999999999999984, 0.4999…"
      ]
     },
     "metadata": {},
     "output_type": "display_data"
    }
   ],
   "source": [
    "intersec = box * cyl + box * sphere\n",
    "DrawGeo(intersec);"
   ]
  },
  {
   "cell_type": "markdown",
   "id": "laden-wallpaper",
   "metadata": {},
   "source": [
    "**Union**"
   ]
  },
  {
   "cell_type": "code",
   "execution_count": null,
   "id": "blocked-olympus",
   "metadata": {},
   "outputs": [
    {
     "data": {
      "application/vnd.jupyter.widget-view+json": {
       "model_id": "1ab8ebf4f15d4ff9847939212f5a48f3",
       "version_major": 2,
       "version_minor": 0
      },
      "text/plain": [
       "WebGuiWidget(value={'ngsolve_version': 'Netgen x.x', 'mesh_dim': 3, 'mesh_center': [0.625, 0.6236927742071093,…"
      ]
     },
     "metadata": {},
     "output_type": "display_data"
    },
    {
     "data": {
      "application/vnd.jupyter.widget-view+json": {
       "model_id": "1ab8ebf4f15d4ff9847939212f5a48f3",
       "version_major": 2,
       "version_minor": 0
      },
      "text/plain": [
       "WebGuiWidget(value={'ngsolve_version': 'Netgen x.x', 'mesh_dim': 3, 'mesh_center': [0.625, 0.6236927742071093,…"
      ]
     },
     "metadata": {},
     "output_type": "display_data"
    }
   ],
   "source": [
    "added = box + cyl + sphere\n",
    "DrawGeo(added);"
   ]
  },
  {
   "cell_type": "markdown",
   "id": "residential-behalf",
   "metadata": {},
   "source": [
    "## Glue Command\n",
    "The **+** operator adds the objects but removes any interior boundaries. If they are needed for the simulation e.g. boundary conditions. The **Glue** command keeps the boundaries between objects."
   ]
  },
  {
   "cell_type": "code",
   "execution_count": null,
   "id": "dependent-dimension",
   "metadata": {},
   "outputs": [
    {
     "data": {
      "application/vnd.jupyter.widget-view+json": {
       "model_id": "c0dcda1549104ab39251d72b1d9ae77f",
       "version_major": 2,
       "version_minor": 0
      },
      "text/plain": [
       "WebGuiWidget(value={'ngsolve_version': 'Netgen x.x', 'mesh_dim': 3, 'mesh_center': [0.4999999999999984, 0.4999…"
      ]
     },
     "metadata": {},
     "output_type": "display_data"
    },
    {
     "data": {
      "application/vnd.jupyter.widget-view+json": {
       "model_id": "c0dcda1549104ab39251d72b1d9ae77f",
       "version_major": 2,
       "version_minor": 0
      },
      "text/plain": [
       "WebGuiWidget(value={'ngsolve_version': 'Netgen x.x', 'mesh_dim': 3, 'mesh_center': [0.4999999999999984, 0.4999…"
      ]
     },
     "metadata": {},
     "output_type": "display_data"
    }
   ],
   "source": [
    "glued = Glue([cutbox, intersec])\n",
    "DrawGeo(glued);"
   ]
  },
  {
   "cell_type": "markdown",
   "id": "fleet-productivity",
   "metadata": {},
   "source": [
    "## Transformation, Translation, Rotation\n",
    "**Translation**\n",
    "\n",
    "Objects can be translated along a vector."
   ]
  },
  {
   "cell_type": "code",
   "execution_count": null,
   "id": "protected-theta",
   "metadata": {},
   "outputs": [
    {
     "data": {
      "application/vnd.jupyter.widget-view+json": {
       "model_id": "5acb7c173a4d494da69db97434fc6a5c",
       "version_major": 2,
       "version_minor": 0
      },
      "text/plain": [
       "WebGuiWidget(value={'ngsolve_version': 'Netgen x.x', 'mesh_dim': 3, 'mesh_center': [1.5, 0.5, 1.0], 'mesh_radi…"
      ]
     },
     "metadata": {},
     "output_type": "display_data"
    },
    {
     "data": {
      "application/vnd.jupyter.widget-view+json": {
       "model_id": "5acb7c173a4d494da69db97434fc6a5c",
       "version_major": 2,
       "version_minor": 0
      },
      "text/plain": [
       "WebGuiWidget(value={'ngsolve_version': 'Netgen x.x', 'mesh_dim': 3, 'mesh_center': [1.5, 0.5, 1.0], 'mesh_radi…"
      ]
     },
     "metadata": {},
     "output_type": "display_data"
    }
   ],
   "source": [
    "trans = Translation( (2,0,1) )\n",
    "transbox = trans(box)\n",
    "DrawGeo(box + transbox);"
   ]
  },
  {
   "cell_type": "markdown",
   "id": "super-moral",
   "metadata": {},
   "source": [
    "**Rotation**\n",
    "Objects can be rotated an angle around an axis."
   ]
  },
  {
   "cell_type": "code",
   "execution_count": null,
   "id": "specified-corporation",
   "metadata": {},
   "outputs": [
    {
     "data": {
      "application/vnd.jupyter.widget-view+json": {
       "model_id": "80bc0a0bfe41479993f4ff0bad927bc7",
       "version_major": 2,
       "version_minor": 0
      },
      "text/plain": [
       "WebGuiWidget(value={'ngsolve_version': 'Netgen x.x', 'mesh_dim': 3, 'mesh_center': [0.06499379100652525, 0.848…"
      ]
     },
     "metadata": {},
     "output_type": "display_data"
    },
    {
     "data": {
      "application/vnd.jupyter.widget-view+json": {
       "model_id": "80bc0a0bfe41479993f4ff0bad927bc7",
       "version_major": 2,
       "version_minor": 0
      },
      "text/plain": [
       "WebGuiWidget(value={'ngsolve_version': 'Netgen x.x', 'mesh_dim': 3, 'mesh_center': [0.06499379100652525, 0.848…"
      ]
     },
     "metadata": {},
     "output_type": "display_data"
    }
   ],
   "source": [
    "axis = Axis((0,0,0), (0,1,1))\n",
    "rotation = Rotation(axis, 100)\n",
    "DrawGeo(box + rotation(box));"
   ]
  },
  {
   "cell_type": "markdown",
   "id": "offshore-discount",
   "metadata": {},
   "source": [
    "## Transformation\n",
    "\n",
    "The Transformation takes Objects in an origin coordinate system and transforms it to another coordinate system."
   ]
  },
  {
   "cell_type": "code",
   "execution_count": null,
   "id": "favorite-civilization",
   "metadata": {},
   "outputs": [
    {
     "data": {
      "application/vnd.jupyter.widget-view+json": {
       "model_id": "ad2d13e0b7674b3687e6cbbd75aa49af",
       "version_major": 2,
       "version_minor": 0
      },
      "text/plain": [
       "WebGuiWidget(value={'ngsolve_version': 'Netgen x.x', 'mesh_dim': 3, 'mesh_center': [2.2071067811865475, 0.1464…"
      ]
     },
     "metadata": {},
     "output_type": "display_data"
    },
    {
     "data": {
      "application/vnd.jupyter.widget-view+json": {
       "model_id": "ad2d13e0b7674b3687e6cbbd75aa49af",
       "version_major": 2,
       "version_minor": 0
      },
      "text/plain": [
       "WebGuiWidget(value={'ngsolve_version': 'Netgen x.x', 'mesh_dim': 3, 'mesh_center': [2.2071067811865475, 0.1464…"
      ]
     },
     "metadata": {},
     "output_type": "display_data"
    }
   ],
   "source": [
    "import math as math\n",
    "obj = Box((0,0,0), (3,2,1)) + Sphere((0,0,0), 0.5)\n",
    "\n",
    "axes = Axes(p=Pnt(3,0,0), n=Dir((0,0,-1)), h=Dir((1,1,0)))\n",
    "orig = Axes(p=Pnt(0,0,0), n=Dir((0,0,1)), h=Dir((1,0,0)))\n",
    "\n",
    "trafo1 = gp_Trsf.Transformation(axes, orig)\n",
    "\n",
    "res = box + trafo1(box)\n",
    "DrawGeo(res);"
   ]
  },
  {
   "cell_type": "markdown",
   "id": "gross-information",
   "metadata": {},
   "source": [
    "## Workplane\n",
    "\n",
    "On a workplane complex 2D sketches can be generated by drawing lines, arces, ..."
   ]
  },
  {
   "cell_type": "code",
   "execution_count": 36,
   "id": "stone-olympus",
   "metadata": {
    "scrolled": false
   },
   "outputs": [
    {
     "data": {
      "application/vnd.jupyter.widget-view+json": {
       "model_id": "857a932ad5e14cf4bb8bb8b0cbbd462f",
       "version_major": 2,
       "version_minor": 0
      },
      "text/plain": [
       "WebGuiWidget(value={'ngsolve_version': 'Netgen x.x', 'mesh_dim': 3, 'mesh_center': [1.0, 0.0, 0.0], 'mesh_radi…"
      ]
     },
     "metadata": {},
     "output_type": "display_data"
    },
    {
     "data": {
      "application/vnd.jupyter.widget-view+json": {
       "model_id": "029c361c19e245029f255e53990000a5",
       "version_major": 2,
       "version_minor": 0
      },
      "text/plain": [
       "WebGuiWidget(value={'gui_settings': {}, 'ngsolve_version': '6.2.2204-45-ga9b076836', 'mesh_dim': 3, 'order2d':…"
      ]
     },
     "metadata": {},
     "output_type": "display_data"
    },
    {
     "name": "stdout",
     "output_type": "stream",
     "text": [
      "meshdim 3\n"
     ]
    },
    {
     "data": {
      "application/vnd.jupyter.widget-view+json": {
       "model_id": "857a932ad5e14cf4bb8bb8b0cbbd462f",
       "version_major": 2,
       "version_minor": 0
      },
      "text/plain": [
       "WebGuiWidget(value={'ngsolve_version': 'Netgen x.x', 'mesh_dim': 3, 'mesh_center': [1.0, 0.0, 0.0], 'mesh_radi…"
      ]
     },
     "metadata": {},
     "output_type": "display_data"
    },
    {
     "data": {
      "application/vnd.jupyter.widget-view+json": {
       "model_id": "029c361c19e245029f255e53990000a5",
       "version_major": 2,
       "version_minor": 0
      },
      "text/plain": [
       "WebGuiWidget(value={'gui_settings': {}, 'ngsolve_version': '6.2.2204-45-ga9b076836', 'mesh_dim': 3, 'order2d':…"
      ]
     },
     "metadata": {},
     "output_type": "display_data"
    },
    {
     "name": "stdout",
     "output_type": "stream",
     "text": [
      "meshdim 3\n"
     ]
    }
   ],
   "source": [
    "wp = WorkPlane(Axes(p=(0,0,0), n=Z, h=X))\n",
    "wp.ArcTo(1,-1, (1,0)).ArcTo(2,0, (0,1)).LineTo(1,1).Close()\n",
    "f = wp.Face()\n",
    "DrawGeo(f);\n",
    "mesh = Mesh(OCCGeometry(f).GenerateMesh())\n",
    "Draw(mesh)\n",
    "print(\"meshdim\", mesh.dim)"
   ]
  },
  {
   "cell_type": "markdown",
   "id": "hourly-subcommittee",
   "metadata": {},
   "source": [
    "## Prism\n",
    "\n",
    "The generated sketch can then be used to generated a 3D prism along a vector in 3D."
   ]
  },
  {
   "cell_type": "code",
   "execution_count": null,
   "id": "previous-output",
   "metadata": {},
   "outputs": [
    {
     "data": {
      "application/vnd.jupyter.widget-view+json": {
       "model_id": "5517d5adccc6444292f2d1d4a543b560",
       "version_major": 2,
       "version_minor": 0
      },
      "text/plain": [
       "WebGuiWidget(value={'ngsolve_version': 'Netgen x.x', 'mesh_dim': 3, 'mesh_center': [1.0, 0.5, 0.5], 'mesh_radi…"
      ]
     },
     "metadata": {},
     "output_type": "display_data"
    },
    {
     "data": {
      "application/vnd.jupyter.widget-view+json": {
       "model_id": "5517d5adccc6444292f2d1d4a543b560",
       "version_major": 2,
       "version_minor": 0
      },
      "text/plain": [
       "WebGuiWidget(value={'ngsolve_version': 'Netgen x.x', 'mesh_dim': 3, 'mesh_center': [1.0, 0.5, 0.5], 'mesh_radi…"
      ]
     },
     "metadata": {},
     "output_type": "display_data"
    }
   ],
   "source": [
    "p = Prism(f, (0,1,1))\n",
    "DrawGeo(p);"
   ]
  },
  {
   "cell_type": "markdown",
   "id": "independent-graduate",
   "metadata": {},
   "source": [
    "## Revolution\n",
    "\n",
    "Objects can be generated by revolving lines around an axis."
   ]
  },
  {
   "cell_type": "code",
   "execution_count": null,
   "id": "wireless-ranch",
   "metadata": {},
   "outputs": [
    {
     "data": {
      "application/vnd.jupyter.widget-view+json": {
       "model_id": "648c37d41df640d69f72b035872e29fc",
       "version_major": 2,
       "version_minor": 0
      },
      "text/plain": [
       "WebGuiWidget(value={'ngsolve_version': 'Netgen x.x', 'mesh_dim': 3, 'mesh_center': [0.0, -15.0, 0.0], 'mesh_ra…"
      ]
     },
     "metadata": {},
     "output_type": "display_data"
    },
    {
     "data": {
      "application/vnd.jupyter.widget-view+json": {
       "model_id": "648c37d41df640d69f72b035872e29fc",
       "version_major": 2,
       "version_minor": 0
      },
      "text/plain": [
       "WebGuiWidget(value={'ngsolve_version': 'Netgen x.x', 'mesh_dim': 3, 'mesh_center': [0.0, -15.0, 0.0], 'mesh_ra…"
      ]
     },
     "metadata": {},
     "output_type": "display_data"
    }
   ],
   "source": [
    "myWidth = 50\n",
    "myThickness = 30\n",
    "pnt1 = Pnt(-myWidth, 0, 0);\n",
    "pnt2 = Pnt(-myWidth, -myThickness, 0);\n",
    "pnt3 = Pnt(0, -myThickness / 2., 0);\n",
    "pnt4 = Pnt(myWidth, -myThickness, 0);\n",
    "pnt5 = Pnt(myWidth, 0, 0);\n",
    "seg1 = Segment(pnt1, pnt2)\n",
    "arc = ArcOfCircle(pnt2, pnt3, pnt4)\n",
    "seg2 = Segment(pnt4, pnt5)\n",
    "wire = Wire ([seg1, arc, seg2])\n",
    "DrawGeo(wire);"
   ]
  },
  {
   "cell_type": "code",
   "execution_count": null,
   "id": "mathematical-equality",
   "metadata": {},
   "outputs": [
    {
     "data": {
      "application/vnd.jupyter.widget-view+json": {
       "model_id": "a812e8c08a9d424bbade60142606b31a",
       "version_major": 2,
       "version_minor": 0
      },
      "text/plain": [
       "WebGuiWidget(value={'ngsolve_version': 'Netgen x.x', 'mesh_dim': 3, 'mesh_center': [0.0, 0.0, 5.32907051820075…"
      ]
     },
     "metadata": {},
     "output_type": "display_data"
    },
    {
     "data": {
      "application/vnd.jupyter.widget-view+json": {
       "model_id": "a812e8c08a9d424bbade60142606b31a",
       "version_major": 2,
       "version_minor": 0
      },
      "text/plain": [
       "WebGuiWidget(value={'ngsolve_version': 'Netgen x.x', 'mesh_dim': 3, 'mesh_center': [0.0, 0.0, 5.32907051820075…"
      ]
     },
     "metadata": {},
     "output_type": "display_data"
    }
   ],
   "source": [
    "rev = Revolve(wire, Axis((0,0,0), (1,0,0)), 360)\n",
    "DrawGeo(rev);"
   ]
  },
  {
   "cell_type": "code",
   "execution_count": null,
   "id": "handmade-folks",
   "metadata": {},
   "outputs": [
    {
     "data": {
      "application/vnd.jupyter.widget-view+json": {
       "model_id": "45601be3968042d98fe7bbc1b4ffe207",
       "version_major": 2,
       "version_minor": 0
      },
      "text/plain": [
       "WebGuiWidget(value={'gui_settings': {}, 'ngsolve_version': '6.2.2204-45-ga9b076836', 'mesh_dim': 3, 'order2d':…"
      ]
     },
     "metadata": {},
     "output_type": "display_data"
    },
    {
     "data": {
      "application/vnd.jupyter.widget-view+json": {
       "model_id": "45601be3968042d98fe7bbc1b4ffe207",
       "version_major": 2,
       "version_minor": 0
      },
      "text/plain": [
       "WebGuiWidget(value={'gui_settings': {}, 'ngsolve_version': '6.2.2204-45-ga9b076836', 'mesh_dim': 3, 'order2d':…"
      ]
     },
     "metadata": {},
     "output_type": "display_data"
    }
   ],
   "source": [
    "geo = OCCGeometry(rev)\n",
    "mesh = Mesh(geo.GenerateMesh(maxh=5))\n",
    "Draw(mesh);"
   ]
  },
  {
   "cell_type": "code",
   "execution_count": null,
   "id": "prospective-reader",
   "metadata": {},
   "outputs": [],
   "source": []
  }
 ],
 "metadata": {
  "kernelspec": {
   "display_name": "Python 3",
   "language": "python",
   "name": "python3"
  },
  "language_info": {
   "codemirror_mode": {
    "name": "ipython",
    "version": 3
   },
   "file_extension": ".py",
   "mimetype": "text/x-python",
   "name": "python",
   "nbconvert_exporter": "python",
   "pygments_lexer": "ipython3",
   "version": "3.8.2"
  }
 },
 "nbformat": 4,
 "nbformat_minor": 5
}
