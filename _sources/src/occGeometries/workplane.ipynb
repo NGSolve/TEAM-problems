{
 "cells": [
  {
   "cell_type": "code",
   "execution_count": 1,
   "id": "e221d400",
   "metadata": {},
   "outputs": [],
   "source": [
    "from netgen.occ import *"
   ]
  },
  {
   "cell_type": "code",
   "execution_count": 2,
   "id": "8bdb97af",
   "metadata": {},
   "outputs": [
    {
     "data": {
      "text/plain": [
       "<netgen.libngpy._NgOCC.WorkPlane at 0x7ff61dcaee30>"
      ]
     },
     "execution_count": 2,
     "metadata": {},
     "output_type": "execute_result"
    }
   ],
   "source": [
    "wp = WorkPlane(gp_Ax3(p=(0,0,0), n=Z, h=X))\n",
    "\n",
    "wp.MoveTo(1,0).LineTo(2,0).LineTo(2,1).Close()\n",
    "wp.MoveTo(3,0).LineTo(4,0).LineTo(4,1).Close()\n",
    "wp.MoveTo(1,2).Line(1.5).Rotate(90).Line(1.5).Close()\n",
    "wp.MoveTo(4,2).Line(1).Rotate(90).Line(1).Close()\n",
    "\n",
    "wp.MoveTo(8,0)\n",
    "for i in range(6):\n",
    "    wp.Line(1).Rotate(360/7)\n",
    "wp.Close()\n",
    "\n",
    "wp.MoveTo(8,3).Line(1,0).Line(0,1).Line(-1,0).Close()\n",
    "wp.MoveTo(9.3,3).Line(1,0).Line(0,1).Line(-1,0).Close()"
   ]
  },
  {
   "cell_type": "code",
   "execution_count": 3,
   "id": "9536c7ef",
   "metadata": {},
   "outputs": [],
   "source": [
    "f = wp.Face()\n",
    "p = Prism(f, (0,0,1))"
   ]
  },
  {
   "cell_type": "code",
   "execution_count": 4,
   "id": "9549666c",
   "metadata": {},
   "outputs": [],
   "source": [
    "from ngsolve import Mesh\n",
    "from ngsolve.webgui import Draw"
   ]
  },
  {
   "cell_type": "code",
   "execution_count": 5,
   "id": "aec2cd07",
   "metadata": {},
   "outputs": [],
   "source": [
    "mesh = Mesh(OCCGeometry(p).GenerateMesh(maxh=0.2))"
   ]
  },
  {
   "cell_type": "code",
   "execution_count": 6,
   "id": "6d80be4c",
   "metadata": {},
   "outputs": [
    {
     "data": {
      "application/vnd.jupyter.widget-view+json": {
       "model_id": "5a1030595c8f4e31a17d34d8347ab704",
       "version_major": 2,
       "version_minor": 0
      },
      "text/plain": [
       "WebGuiWidget(value={'ngsolve_version': '6.2.2104-88-g30c997527', 'mesh_dim': 3, 'order2d': 1, 'order3d': 1, 'd…"
      ]
     },
     "metadata": {},
     "output_type": "display_data"
    }
   ],
   "source": [
    "Draw (mesh);"
   ]
  },
  {
   "cell_type": "code",
   "execution_count": null,
   "id": "2778ff76",
   "metadata": {},
   "outputs": [],
   "source": []
  },
  {
   "cell_type": "code",
   "execution_count": null,
   "id": "98634abc",
   "metadata": {},
   "outputs": [],
   "source": []
  }
 ],
 "metadata": {
  "kernelspec": {
   "display_name": "Python 3",
   "language": "python",
   "name": "python3"
  },
  "language_info": {
   "codemirror_mode": {
    "name": "ipython",
    "version": 3
   },
   "file_extension": ".py",
   "mimetype": "text/x-python",
   "name": "python",
   "nbconvert_exporter": "python",
   "pygments_lexer": "ipython3",
   "version": "3.8.2"
  }
 },
 "nbformat": 4,
 "nbformat_minor": 5
}
