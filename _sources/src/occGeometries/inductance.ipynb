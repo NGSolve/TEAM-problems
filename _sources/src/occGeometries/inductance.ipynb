{
 "cells": [
  {
   "cell_type": "markdown",
   "id": "pregnant-temple",
   "metadata": {},
   "source": [
    "Embedded Inductance Coil\n",
    "==="
   ]
  },
  {
   "cell_type": "code",
   "execution_count": 1,
   "id": "advised-banking",
   "metadata": {},
   "outputs": [],
   "source": [
    "from netgen.occ import *\n",
    "from ngsolve.webgui import Draw\n",
    "from netgen.webgui import Draw as DrawGeo\n",
    "from ngsolve import Mesh"
   ]
  },
  {
   "cell_type": "markdown",
   "id": "sustained-street",
   "metadata": {},
   "source": [
    "Load the inductance coil with the connectors and the core from the external step file."
   ]
  },
  {
   "cell_type": "code",
   "execution_count": 2,
   "id": "declared-jewel",
   "metadata": {},
   "outputs": [
    {
     "data": {
      "application/vnd.jupyter.widget-view+json": {
       "model_id": "79ea3f11578b4336a5b4b698ea771af4",
       "version_major": 2,
       "version_minor": 0
      },
      "text/plain": [
       "WebGuiWidget(value={'ngsolve_version': 'Netgen x.x', 'mesh_dim': 3, 'mesh_center': [0.0, -1.782236095659691, 9…"
      ]
     },
     "metadata": {},
     "output_type": "display_data"
    }
   ],
   "source": [
    "geo = OCCGeometry(\"Induktivitaet.step\")\n",
    "shape = geo.shape\n",
    "DrawGeo(shape);"
   ]
  },
  {
   "cell_type": "markdown",
   "id": "verified-briefing",
   "metadata": {},
   "source": [
    "Generating a mesh from the imported geometrie failes, due to overlapping boundaries. The connectors and the coil should share a common boundary where they are connected, but they have individual unconnected surfaces!"
   ]
  },
  {
   "cell_type": "code",
   "execution_count": 3,
   "id": "together-millennium",
   "metadata": {},
   "outputs": [
    {
     "ename": "NgException",
     "evalue": "Stop meshing since boundary mesh is overlapping",
     "output_type": "error",
     "traceback": [
      "\u001b[0;31m---------------------------------------------------------------------------\u001b[0m",
      "\u001b[0;31mNgException\u001b[0m                               Traceback (most recent call last)",
      "\u001b[0;32m<ipython-input-3-6021764d37f6>\u001b[0m in \u001b[0;36m<module>\u001b[0;34m\u001b[0m\n\u001b[0;32m----> 1\u001b[0;31m \u001b[0mmesh\u001b[0m \u001b[0;34m=\u001b[0m \u001b[0mMesh\u001b[0m\u001b[0;34m(\u001b[0m\u001b[0mgeo\u001b[0m\u001b[0;34m.\u001b[0m\u001b[0mGenerateMesh\u001b[0m\u001b[0;34m(\u001b[0m\u001b[0mmaxh\u001b[0m\u001b[0;34m=\u001b[0m\u001b[0;36m2\u001b[0m\u001b[0;34m)\u001b[0m\u001b[0;34m)\u001b[0m\u001b[0;34m\u001b[0m\u001b[0;34m\u001b[0m\u001b[0m\n\u001b[0m",
      "\u001b[0;31mNgException\u001b[0m: Stop meshing since boundary mesh is overlapping"
     ]
    }
   ],
   "source": [
    "mesh = Mesh(geo.GenerateMesh(maxh=2))"
   ]
  },
  {
   "cell_type": "markdown",
   "id": "detected-alarm",
   "metadata": {},
   "source": [
    "The parts need to be connected and the surfaces unified. This is done by the \"Glue\" command. It finds duplicated surfaces and repairs them."
   ]
  },
  {
   "cell_type": "code",
   "execution_count": 4,
   "id": "black-candy",
   "metadata": {},
   "outputs": [
    {
     "data": {
      "application/vnd.jupyter.widget-view+json": {
       "model_id": "4982cca36c7446b8a2301af35c1b06c7",
       "version_major": 2,
       "version_minor": 0
      },
      "text/plain": [
       "WebGuiWidget(value={'ngsolve_version': '6.2.2104-88-g30c997527', 'mesh_dim': 3, 'order2d': 1, 'order3d': 1, 'd…"
      ]
     },
     "metadata": {},
     "output_type": "display_data"
    },
    {
     "name": "stdout",
     "output_type": "stream",
     "text": [
      "Materials: ('Kern', 'Spule', 'Ableitung', 'Zuleitung_2')\n"
     ]
    }
   ],
   "source": [
    "newshape = Glue(shape)\n",
    "newgeo = OCCGeometry(newshape)\n",
    "newmesh = Mesh(newgeo.GenerateMesh(maxh=2))\n",
    "Draw (newmesh);\n",
    "print (\"Materials:\", newmesh.GetMaterials())"
   ]
  },
  {
   "cell_type": "markdown",
   "id": "nervous-sunset",
   "metadata": {},
   "source": [
    "Embedding the Induction Coil into a box of air for simulations.\n",
    "=\n",
    "\n",
    "In FEM simulations the air around the coil needs to be considered. We take the geometrie from the step file and embed it into a box of air."
   ]
  },
  {
   "cell_type": "code",
   "execution_count": 5,
   "id": "unlikely-providence",
   "metadata": {},
   "outputs": [
    {
     "data": {
      "application/vnd.jupyter.widget-view+json": {
       "model_id": "0aa7e7ec8eb446cbb57145554213f0cb",
       "version_major": 2,
       "version_minor": 0
      },
      "text/plain": [
       "WebGuiWidget(value={'ngsolve_version': 'Netgen x.x', 'mesh_dim': 3, 'mesh_center': [0.0, -2.5, 10.0], 'mesh_ra…"
      ]
     },
     "metadata": {},
     "output_type": "display_data"
    }
   ],
   "source": [
    "box = Box( (-20,-25, -5), (20, 20, 25) )\n",
    "air = box-newshape\n",
    "air.mat(\"air\")\n",
    "embshape = Glue([air,newshape])\n",
    "DrawGeo(embshape);"
   ]
  },
  {
   "cell_type": "code",
   "execution_count": 6,
   "id": "quarterly-writing",
   "metadata": {
    "scrolled": true
   },
   "outputs": [
    {
     "data": {
      "application/vnd.jupyter.widget-view+json": {
       "model_id": "b8835528f96d4dd9b69697ea82d5dcd8",
       "version_major": 2,
       "version_minor": 0
      },
      "text/plain": [
       "WebGuiWidget(value={'ngsolve_version': '6.2.2104-88-g30c997527', 'mesh_dim': 3, 'order2d': 1, 'order3d': 1, 'd…"
      ]
     },
     "metadata": {},
     "output_type": "display_data"
    },
    {
     "name": "stdout",
     "output_type": "stream",
     "text": [
      "('air', 'Kern', 'Spule', 'Ableitung', 'Zuleitung_2')\n"
     ]
    }
   ],
   "source": [
    "embgeo = OCCGeometry(embshape)\n",
    "embmesh = Mesh(embgeo.GenerateMesh(maxh=2))\n",
    "Draw (embmesh);\n",
    "print (embmesh.GetMaterials())"
   ]
  },
  {
   "cell_type": "code",
   "execution_count": 13,
   "id": "academic-bridges",
   "metadata": {},
   "outputs": [
    {
     "data": {
      "text/plain": [
       "('air', 'Kern', 'Spule', 'Ableitung', 'Zuleitung_2')"
      ]
     },
     "execution_count": 13,
     "metadata": {},
     "output_type": "execute_result"
    }
   ],
   "source": [
    "embmesh.GetMaterials()"
   ]
  },
  {
   "cell_type": "code",
   "execution_count": 14,
   "id": "authorized-substance",
   "metadata": {},
   "outputs": [
    {
     "data": {
      "text/plain": [
       "('bc_0',\n",
       " 'bc_1',\n",
       " 'bc_2',\n",
       " 'bc_3',\n",
       " 'bc_4',\n",
       " 'bc_5',\n",
       " 'bc_6',\n",
       " 'bc_7',\n",
       " 'bc_8',\n",
       " 'bc_9',\n",
       " '',\n",
       " 'bc_11',\n",
       " 'bc_12',\n",
       " '',\n",
       " '',\n",
       " '',\n",
       " '',\n",
       " '',\n",
       " '',\n",
       " '',\n",
       " '',\n",
       " '',\n",
       " '',\n",
       " '',\n",
       " 'bc_24',\n",
       " 'bc_25',\n",
       " 'bc_26',\n",
       " '',\n",
       " '',\n",
       " '',\n",
       " '',\n",
       " '',\n",
       " '',\n",
       " '',\n",
       " '',\n",
       " '',\n",
       " '',\n",
       " '',\n",
       " 'bc_38',\n",
       " 'bc_39',\n",
       " 'bc_40',\n",
       " 'bc_41',\n",
       " '',\n",
       " 'bc_43',\n",
       " '',\n",
       " '',\n",
       " '',\n",
       " '',\n",
       " '',\n",
       " '')"
      ]
     },
     "execution_count": 14,
     "metadata": {},
     "output_type": "execute_result"
    }
   ],
   "source": [
    "embmesh.GetBoundaries()"
   ]
  },
  {
   "cell_type": "code",
   "execution_count": 15,
   "id": "julian-madonna",
   "metadata": {},
   "outputs": [],
   "source": [
    "from ngsolve import HCurl\n"
   ]
  },
  {
   "cell_type": "code",
   "execution_count": 16,
   "id": "entitled-siemens",
   "metadata": {},
   "outputs": [
    {
     "name": "stdout",
     "output_type": "stream",
     "text": [
      "Help on class HCurl in module ngsolve.comp:\n",
      "\n",
      "class HCurl(FESpace)\n",
      " |   Keyword arguments can be:\n",
      " |  order: int = 1\n",
      " |    order of finite element space\n",
      " |  complex: bool = False\n",
      " |    Set if FESpace should be complex\n",
      " |  dirichlet: regexpr\n",
      " |    Regular expression string defining the dirichlet boundary.\n",
      " |    More than one boundary can be combined by the | operator,\n",
      " |    i.e.: dirichlet = 'top|right'\n",
      " |  dirichlet_bbnd: regexpr\n",
      " |    Regular expression string defining the dirichlet bboundary,\n",
      " |    i.e. points in 2D and edges in 3D.\n",
      " |    More than one boundary can be combined by the | operator,\n",
      " |    i.e.: dirichlet_bbnd = 'top|right'\n",
      " |  dirichlet_bbbnd: regexpr\n",
      " |    Regular expression string defining the dirichlet bbboundary,\n",
      " |    i.e. points in 3D.\n",
      " |    More than one boundary can be combined by the | operator,\n",
      " |    i.e.: dirichlet_bbbnd = 'top|right'\n",
      " |  definedon: Region or regexpr\n",
      " |    FESpace is only defined on specific Region, created with mesh.Materials('regexpr')\n",
      " |    or mesh.Boundaries('regexpr'). If given a regexpr, the region is assumed to be\n",
      " |    mesh.Materials('regexpr').\n",
      " |  dim: int = 1\n",
      " |    Create multi dimensional FESpace (i.e. [H1]^3)\n",
      " |  dgjumps: bool = False\n",
      " |    Enable discontinuous space for DG methods, this flag is needed for DG methods,\n",
      " |    since the dofs have a different coupling then and this changes the sparsity\n",
      " |    pattern of matrices.\n",
      " |  low_order_space: bool = True\n",
      " |    Generate a lowest order space together with the high-order space,\n",
      " |    needed for some preconditioners.\n",
      " |  order_policy: ORDER_POLICY = ORDER_POLICY.OLDSTYLE\n",
      " |    CONSTANT .. use the same fixed order for all elements,\n",
      " |    NODAL ..... use the same order for nodes of same shape,\n",
      " |    VARIABLE ... use an individual order for each edge, face and cell,\n",
      " |    OLDSTYLE .. as it used to be for the last decade\n",
      " |  nograds: bool = False\n",
      " |    Remove higher order gradients of H1 basis functions from HCurl FESpace\n",
      " |  type1: bool = False\n",
      " |    Use type 1 Nedelec elements\n",
      " |  discontinuous: bool = False\n",
      " |    Create discontinuous HCurl space\n",
      " |  gradientdomains: List[int] = None\n",
      " |    Remove high order gradients from domains where the value is 0.\n",
      " |    This list can be generated for example like this:\n",
      " |    graddoms = [1 if mat == 'iron' else 0 for mat in mesh.GetMaterials()]\n",
      " |  highest_order_dc: bool = False\n",
      " |    Activates relaxed H(curl)-conformity. Allows tangential discontinuity of highest order edge basis functions\n",
      " |  \n",
      " |  Method resolution order:\n",
      " |      HCurl\n",
      " |      FESpace\n",
      " |      NGS_Object\n",
      " |      pybind11_builtins.pybind11_object\n",
      " |      builtins.object\n",
      " |  \n",
      " |  Methods defined here:\n",
      " |  \n",
      " |  CreateGradient(...)\n",
      " |      CreateGradient(self: ngsolve.comp.HCurl) -> tuple\n",
      " |  \n",
      " |  __getstate__(...)\n",
      " |      __getstate__(self: ngsolve.comp.FESpace) -> tuple\n",
      " |  \n",
      " |  __init__(...)\n",
      " |      __init__(self: ngsolve.comp.HCurl, mesh: ngsolve.comp.Mesh, autoupdate: bool = False, **kwargs) -> None\n",
      " |  \n",
      " |  __setstate__(...)\n",
      " |      __setstate__(self: ngsolve.comp.HCurl, arg0: tuple) -> None\n",
      " |  \n",
      " |  ----------------------------------------------------------------------\n",
      " |  Static methods defined here:\n",
      " |  \n",
      " |  __flags_doc__(...) from builtins.PyCapsule\n",
      " |      __flags_doc__() -> dict\n",
      " |  \n",
      " |  ----------------------------------------------------------------------\n",
      " |  Data descriptors defined here:\n",
      " |  \n",
      " |  __dict__\n",
      " |  \n",
      " |  ----------------------------------------------------------------------\n",
      " |  Methods inherited from FESpace:\n",
      " |  \n",
      " |  ApplyM(...)\n",
      " |      ApplyM(self: ngsolve.comp.FESpace, vec: ngsolve.la.BaseVector, rho: ngsolve.fem.CoefficientFunction = None, definedon: ngsolve.comp.Region = None) -> None\n",
      " |      \n",
      " |      Apply mass-matrix. Available only for L2-like spaces\n",
      " |  \n",
      " |  ConvertL2Operator(...)\n",
      " |      ConvertL2Operator(self: ngsolve.comp.FESpace, l2space: ngsolve.comp.FESpace) -> BaseMatrix\n",
      " |  \n",
      " |  CouplingType(...)\n",
      " |      CouplingType(self: ngsolve.comp.FESpace, dofnr: int) -> ngsolve.comp.COUPLING_TYPE\n",
      " |      \n",
      " |      \n",
      " |               Get coupling type of a degree of freedom.\n",
      " |      \n",
      " |      Parameters:\n",
      " |      \n",
      " |      dofnr : int\n",
      " |        input dof number\n",
      " |  \n",
      " |  CreateDirectSolverCluster(...)\n",
      " |      CreateDirectSolverCluster(self: ngsolve.comp.FESpace, **kwargs) -> list\n",
      " |  \n",
      " |  Elements(...)\n",
      " |      Elements(self: ngsolve.comp.FESpace, VOL_or_BND: ngsolve.comp.VorB = <VorB.VOL: 0>) -> ngsolve.comp.FESpaceElementRange\n",
      " |      \n",
      " |      \n",
      " |      Returns an iterable range of elements.\n",
      " |      \n",
      " |      Parameters:\n",
      " |      \n",
      " |      VOL_or_BND : ngsolve.comp.VorB\n",
      " |        input VOL, BND, BBND,...\n",
      " |  \n",
      " |  FinalizeUpdate(...)\n",
      " |      FinalizeUpdate(self: ngsolve.comp.FESpace) -> None\n",
      " |      \n",
      " |      finalize update\n",
      " |  \n",
      " |  FreeDofs(...)\n",
      " |      FreeDofs(self: ngsolve.comp.FESpace, coupling: bool = False) -> pyngcore.BitArray\n",
      " |      \n",
      " |      \n",
      " |      \n",
      " |      Return BitArray of free (non-Dirichlet) dofs\\n\n",
      " |      coupling=False ... all free dofs including local dofs\\n\n",
      " |      coupling=True .... only element-boundary free dofs\n",
      " |      \n",
      " |      Parameters:\n",
      " |      \n",
      " |      coupling : bool\n",
      " |        input coupling\n",
      " |  \n",
      " |  GetDofNrs(...)\n",
      " |      GetDofNrs(*args, **kwargs)\n",
      " |      Overloaded function.\n",
      " |      \n",
      " |      1. GetDofNrs(self: ngsolve.comp.FESpace, ei: ngsolve.comp.ElementId) -> tuple\n",
      " |      \n",
      " |      \n",
      " |      \n",
      " |      Parameters:\n",
      " |      \n",
      " |      ei : ngsolve.comp.ElementId\n",
      " |        input element id\n",
      " |      \n",
      " |      \n",
      " |      \n",
      " |      2. GetDofNrs(self: ngsolve.comp.FESpace, ni: ngsolve.comp.NodeId) -> tuple\n",
      " |      \n",
      " |      \n",
      " |      \n",
      " |      Parameters:\n",
      " |      \n",
      " |      ni : ngsolve.comp.NodeId\n",
      " |        input node id\n",
      " |  \n",
      " |  GetDofs(...)\n",
      " |      GetDofs(self: ngsolve.comp.FESpace, region: ngsolve.comp.Region) -> pyngcore.BitArray\n",
      " |      \n",
      " |      \n",
      " |      Returns all degrees of freedom in given region.\n",
      " |      \n",
      " |      Parameters:\n",
      " |      \n",
      " |      region : ngsolve.comp.Region\n",
      " |        input region\n",
      " |  \n",
      " |  GetFE(...)\n",
      " |      GetFE(self: ngsolve.comp.FESpace, ei: ngsolve.comp.ElementId) -> object\n",
      " |      \n",
      " |      \n",
      " |      Get the finite element to corresponding element id.\n",
      " |      \n",
      " |      Parameters:\n",
      " |      \n",
      " |      ei : ngsolve.comp.ElementId\n",
      " |         input element id\n",
      " |  \n",
      " |  GetOrder(...)\n",
      " |      GetOrder(self: ngsolve.comp.FESpace, nodeid: ngsolve.comp.NodeId) -> int\n",
      " |      \n",
      " |      return order of node.\n",
      " |      by now, only isotropic order is supported here\n",
      " |  \n",
      " |  GetTrace(...)\n",
      " |      GetTrace(self: ngsolve.comp.FESpace, arg0: ngsolve.comp.FESpace, arg1: ngsolve.la.BaseVector, arg2: ngsolve.la.BaseVector, arg3: bool) -> None\n",
      " |  \n",
      " |  GetTraceTrans(...)\n",
      " |      GetTraceTrans(self: ngsolve.comp.FESpace, arg0: ngsolve.comp.FESpace, arg1: ngsolve.la.BaseVector, arg2: ngsolve.la.BaseVector, arg3: bool) -> None\n",
      " |  \n",
      " |  HideAllDofs(...)\n",
      " |      HideAllDofs(self: ngsolve.comp.FESpace, component: object = <ngsolve.ngstd.DummyArgument>) -> None\n",
      " |      \n",
      " |      set all visible coupling types to HIDDEN_DOFs (will be overwritten by any Update())\n",
      " |  \n",
      " |  InvM(...)\n",
      " |      InvM(self: ngsolve.comp.FESpace, rho: ngsolve.fem.CoefficientFunction = None) -> BaseMatrix\n",
      " |  \n",
      " |  Mass(...)\n",
      " |      Mass(self: ngsolve.comp.FESpace, rho: ngsolve.fem.CoefficientFunction = None, definedon: Optional[ngsolve.comp.Region] = None) -> BaseMatrix\n",
      " |  \n",
      " |  ParallelDofs(...)\n",
      " |      ParallelDofs(self: ngsolve.comp.FESpace) -> ngsolve.la.ParallelDofs\n",
      " |      \n",
      " |      Return dof-identification for MPI-distributed meshes\n",
      " |  \n",
      " |  Prolongation(...)\n",
      " |      Prolongation(self: ngsolve.comp.FESpace) -> ngmg::Prolongation\n",
      " |      \n",
      " |      Return prolongation operator for use in multi-grid\n",
      " |  \n",
      " |  Range(...)\n",
      " |      Range(self: ngsolve.comp.FESpace, arg0: int) -> ngsolve.la.DofRange\n",
      " |      \n",
      " |      deprecated, will be only available for ProductSpace\n",
      " |  \n",
      " |  SetCouplingType(...)\n",
      " |      SetCouplingType(*args, **kwargs)\n",
      " |      Overloaded function.\n",
      " |      \n",
      " |      1. SetCouplingType(self: ngsolve.comp.FESpace, dofnr: int, coupling_type: ngsolve.comp.COUPLING_TYPE) -> None\n",
      " |      \n",
      " |      \n",
      " |               Set coupling type of a degree of freedom.\n",
      " |      \n",
      " |      Parameters:\n",
      " |      \n",
      " |      dofnr : int\n",
      " |        input dof number\n",
      " |      \n",
      " |      coupling_type : ngsolve.comp.COUPLING_TYPE\n",
      " |        input coupling type\n",
      " |      \n",
      " |      \n",
      " |      \n",
      " |      2. SetCouplingType(self: ngsolve.comp.FESpace, dofnrs: ngsolve.ngstd.IntRange, coupling_type: ngsolve.comp.COUPLING_TYPE) -> None\n",
      " |      \n",
      " |      \n",
      " |               Set coupling type for interval of dofs.\n",
      " |      \n",
      " |      Parameters:\n",
      " |      \n",
      " |      dofnrs : Range\n",
      " |        range of dofs\n",
      " |      \n",
      " |      coupling_type : ngsolve.comp.COUPLING_TYPE\n",
      " |        input coupling type\n",
      " |  \n",
      " |  SetDefinedOn(...)\n",
      " |      SetDefinedOn(self: ngsolve.comp.FESpace, region: ngsolve.comp.Region) -> None\n",
      " |      \n",
      " |      \n",
      " |      Set the regions on which the FESpace is defined.\n",
      " |      \n",
      " |      Parameters:\n",
      " |      \n",
      " |      region : ngsolve.comp.Region\n",
      " |        input region\n",
      " |  \n",
      " |  SetOrder(...)\n",
      " |      SetOrder(*args, **kwargs)\n",
      " |      Overloaded function.\n",
      " |      \n",
      " |      1. SetOrder(self: ngsolve.comp.FESpace, element_type: ngsolve.fem.ET, order: int) -> None\n",
      " |      \n",
      " |      \n",
      " |      \n",
      " |      Parameters:\n",
      " |      \n",
      " |      element_type : ngsolve.fem.ET\n",
      " |        input element type\n",
      " |      \n",
      " |      order : object\n",
      " |        input polynomial order\n",
      " |      \n",
      " |      \n",
      " |      2. SetOrder(self: ngsolve.comp.FESpace, nodeid: ngsolve.comp.NodeId, order: int) -> None\n",
      " |      \n",
      " |      \n",
      " |      \n",
      " |      Parameters:\n",
      " |      \n",
      " |      nodeid : ngsolve.comp.NodeId\n",
      " |        input node id\n",
      " |      \n",
      " |      order : int\n",
      " |        input polynomial order\n",
      " |  \n",
      " |  SolveM(...)\n",
      " |      SolveM(self: ngsolve.comp.FESpace, vec: ngsolve.la.BaseVector, rho: ngsolve.fem.CoefficientFunction = None, definedon: ngsolve.comp.Region = None) -> None\n",
      " |      \n",
      " |      \n",
      " |               Solve with the mass-matrix. Available only for L2-like spaces.\n",
      " |      \n",
      " |      Parameters:\n",
      " |      \n",
      " |      vec : ngsolve.la.BaseVector\n",
      " |        input right hand side vector\n",
      " |      \n",
      " |      rho : ngsolve.fem.CoefficientFunction\n",
      " |        input CF\n",
      " |  \n",
      " |  TestFunction(...)\n",
      " |      TestFunction(self: ngsolve.comp.FESpace) -> object\n",
      " |      \n",
      " |      Return a proxy to be used as a testfunction for Symbolic Integrators\n",
      " |  \n",
      " |  TnT(...)\n",
      " |      TnT(self: ngsolve.comp.FESpace) -> Tuple[object, object]\n",
      " |      \n",
      " |      Return a tuple of trial and testfunction\n",
      " |  \n",
      " |  TraceOperator(...)\n",
      " |      TraceOperator(self: ngsolve.comp.FESpace, tracespace: ngsolve.comp.FESpace, average: bool) -> BaseMatrix\n",
      " |  \n",
      " |  TrialFunction(...)\n",
      " |      TrialFunction(self: ngsolve.comp.FESpace) -> object\n",
      " |      \n",
      " |      Return a proxy to be used as a trialfunction in Symbolic Integrators\n",
      " |  \n",
      " |  Update(...)\n",
      " |      Update(self: ngsolve.comp.FESpace) -> None\n",
      " |      \n",
      " |      update space after mesh-refinement\n",
      " |  \n",
      " |  UpdateDofTables(...)\n",
      " |      UpdateDofTables(self: ngsolve.comp.FESpace) -> None\n",
      " |      \n",
      " |      update dof-tables after changing polynomial order distribution\n",
      " |  \n",
      " |  __eq__(...)\n",
      " |      __eq__(self: ngsolve.comp.FESpace, space: ngsolve.comp.FESpace) -> bool\n",
      " |  \n",
      " |  __mul__(...)\n",
      " |      __mul__(self: ngsolve.comp.FESpace, arg0: ngsolve.comp.FESpace) -> ngcomp::CompoundFESpace\n",
      " |  \n",
      " |  __pow__(...)\n",
      " |      __pow__(self: ngsolve.comp.FESpace, arg0: int) -> ngcomp::CompoundFESpaceAllSame\n",
      " |  \n",
      " |  __str__(...)\n",
      " |      __str__(self: ngsolve.comp.FESpace) -> str\n",
      " |  \n",
      " |  __timing__(...)\n",
      " |      __timing__(self: ngsolve.comp.FESpace) -> object\n",
      " |  \n",
      " |  ----------------------------------------------------------------------\n",
      " |  Static methods inherited from FESpace:\n",
      " |  \n",
      " |  __special_treated_flags__(...) from builtins.PyCapsule\n",
      " |      __special_treated_flags__() -> dict\n",
      " |  \n",
      " |  ----------------------------------------------------------------------\n",
      " |  Readonly properties inherited from FESpace:\n",
      " |  \n",
      " |  components\n",
      " |      deprecated, will be only available for ProductSpace\n",
      " |  \n",
      " |  couplingtype\n",
      " |  \n",
      " |  dim\n",
      " |      multi-dim of FESpace\n",
      " |  \n",
      " |  globalorder\n",
      " |      query global order of space\n",
      " |  \n",
      " |  is_complex\n",
      " |  \n",
      " |  loembedding\n",
      " |  \n",
      " |  lospace\n",
      " |  \n",
      " |  mesh\n",
      " |      mesh on which the FESpace is created\n",
      " |  \n",
      " |  ndof\n",
      " |      number of degrees of freedom\n",
      " |  \n",
      " |  ndofglobal\n",
      " |      global number of dofs on MPI-distributed mesh\n",
      " |  \n",
      " |  type\n",
      " |      type of finite element space\n",
      " |  \n",
      " |  ----------------------------------------------------------------------\n",
      " |  Data and other attributes inherited from FESpace:\n",
      " |  \n",
      " |  __hash__ = None\n",
      " |  \n",
      " |  ----------------------------------------------------------------------\n",
      " |  Readonly properties inherited from NGS_Object:\n",
      " |  \n",
      " |  __memory__\n",
      " |  \n",
      " |  ----------------------------------------------------------------------\n",
      " |  Data descriptors inherited from NGS_Object:\n",
      " |  \n",
      " |  name\n",
      " |  \n",
      " |  ----------------------------------------------------------------------\n",
      " |  Static methods inherited from pybind11_builtins.pybind11_object:\n",
      " |  \n",
      " |  __new__(*args, **kwargs) from pybind11_builtins.pybind11_type\n",
      " |      Create and return a new object.  See help(type) for accurate signature.\n",
      "\n"
     ]
    }
   ],
   "source": [
    "help(HCurl)\n"
   ]
  },
  {
   "cell_type": "code",
   "execution_count": 17,
   "id": "united-reading",
   "metadata": {},
   "outputs": [],
   "source": [
    "fes = HCurl(embmesh)"
   ]
  },
  {
   "cell_type": "code",
   "execution_count": 18,
   "id": "varying-strain",
   "metadata": {},
   "outputs": [
    {
     "data": {
      "text/plain": [
       "47414"
      ]
     },
     "execution_count": 18,
     "metadata": {},
     "output_type": "execute_result"
    }
   ],
   "source": [
    "fes.ndof\n"
   ]
  },
  {
   "cell_type": "code",
   "execution_count": 19,
   "id": "maritime-iceland",
   "metadata": {},
   "outputs": [],
   "source": [
    "import netgen.gui"
   ]
  },
  {
   "cell_type": "code",
   "execution_count": null,
   "id": "posted-chase",
   "metadata": {},
   "outputs": [],
   "source": []
  }
 ],
 "metadata": {
  "kernelspec": {
   "display_name": "Python 3",
   "language": "python",
   "name": "python3"
  },
  "language_info": {
   "codemirror_mode": {
    "name": "ipython",
    "version": 3
   },
   "file_extension": ".py",
   "mimetype": "text/x-python",
   "name": "python",
   "nbconvert_exporter": "python",
   "pygments_lexer": "ipython3",
   "version": "3.8.2"
  }
 },
 "nbformat": 4,
 "nbformat_minor": 5
}
