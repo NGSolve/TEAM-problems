{
 "cells": [
  {
   "cell_type": "code",
   "execution_count": 1,
   "id": "a0f563c1",
   "metadata": {},
   "outputs": [],
   "source": [
    "from netgen.occ import *\n",
    "from ngsolve import Mesh\n",
    "from ngsolve.webgui import Draw"
   ]
  },
  {
   "cell_type": "code",
   "execution_count": 2,
   "id": "b131f0dc",
   "metadata": {},
   "outputs": [],
   "source": [
    "p1 = gp_Pnt(0,0,0)\n",
    "p2 = gp_Pnt(1,1,0)\n",
    "p3 = gp_Pnt(2,0,0)\n",
    "p4 = gp_Pnt(2.5,-0.5,0)\n",
    "p5 = gp_Pnt(3,0,0)\n",
    "\n",
    "arc1 = ArcOfCircle(p1,p2,p3)\n",
    "arc2 = ArcOfCircle(p3,p4,p5)\n",
    "\n",
    "wire = Wire( [arc1, arc2])\n",
    "shell = Prism(wire, (0,0,1))"
   ]
  },
  {
   "cell_type": "code",
   "execution_count": 3,
   "id": "b96deb38",
   "metadata": {},
   "outputs": [
    {
     "data": {
      "text/plain": [
       "<netgen.libngpy._NgOCC.TopoDS_Shape at 0x7f91084064f0>"
      ]
     },
     "execution_count": 3,
     "metadata": {},
     "output_type": "execute_result"
    }
   ],
   "source": [
    "faces = shell.SubShapes(FACE)\n",
    "faces[0].bc(\"face1\")\n",
    "faces[1].bc(\"face2\")"
   ]
  },
  {
   "cell_type": "code",
   "execution_count": 4,
   "id": "bc62c4c0",
   "metadata": {},
   "outputs": [
    {
     "name": "stdout",
     "output_type": "stream",
     "text": [
      "1.0 0.0 0.0 0.5\n",
      "1.0 2.0 -4.978995983325726e-17 0.5\n",
      "3.141592653589793 1.0 0.6366197723675812 0.0\n",
      "3.141592653589793 1.0 0.6366197723675812 1.0\n",
      "1.0 2.0 -4.978995983325726e-17 0.5\n",
      "1.0 3.0 4.9789962505147994e-17 0.5\n",
      "1.5707963267948966 2.5 -0.3183098861837906 0.0\n",
      "1.5707963267948966 2.5 -0.3183098861837906 1.0\n"
     ]
    }
   ],
   "source": [
    "for e in shell.SubShapes(EDGE):\n",
    "    rho,c = e.Properties()\n",
    "    print (rho, c.x, c.y, c.z)\n",
    "    e.name = \"leftedge\" if c.x < 0.01 else \"edge\""
   ]
  },
  {
   "cell_type": "code",
   "execution_count": 5,
   "id": "006b0274",
   "metadata": {},
   "outputs": [],
   "source": [
    "geo = OCCGeometry(shell)\n",
    "mesh = Mesh(geo.GenerateMesh(maxh=0.1))\n",
    "mesh.Curve(3)"
   ]
  },
  {
   "cell_type": "code",
   "execution_count": 6,
   "id": "2d140e0f",
   "metadata": {},
   "outputs": [
    {
     "data": {
      "application/vnd.jupyter.widget-view+json": {
       "model_id": "5dee45c9fd9b40f188e4333600046a74",
       "version_major": 2,
       "version_minor": 0
      },
      "text/plain": [
       "WebGuiWidget(value={'ngsolve_version': '6.2.2104-70-gf9a5bdca4', 'mesh_dim': 3, 'order2d': 2, 'order3d': 2, 'd…"
      ]
     },
     "metadata": {},
     "output_type": "display_data"
    }
   ],
   "source": [
    "Draw (mesh);"
   ]
  },
  {
   "cell_type": "code",
   "execution_count": 7,
   "id": "dd6b6d1a",
   "metadata": {},
   "outputs": [
    {
     "data": {
      "text/plain": [
       "(('face1', 'face2'),\n",
       " ('leftedge', 'edge', 'edge', 'edge', 'edge', 'edge', 'edge'))"
      ]
     },
     "execution_count": 7,
     "metadata": {},
     "output_type": "execute_result"
    }
   ],
   "source": [
    "mesh.GetBoundaries(), mesh.GetBBoundaries()"
   ]
  },
  {
   "cell_type": "code",
   "execution_count": 8,
   "id": "be19d88b",
   "metadata": {},
   "outputs": [
    {
     "name": "stdout",
     "output_type": "stream",
     "text": [
      "0\n",
      "0\n",
      "0\n",
      "0\n",
      "0\n",
      "0\n",
      "0\n",
      "0\n",
      "0\n",
      "0\n",
      "1\n",
      "1\n",
      "1\n",
      "1\n",
      "1\n",
      "1\n",
      "1\n",
      "1\n",
      "1\n",
      "1\n",
      "2\n",
      "2\n",
      "2\n",
      "2\n",
      "2\n",
      "2\n",
      "2\n",
      "2\n",
      "2\n",
      "2\n",
      "2\n",
      "2\n",
      "2\n",
      "2\n",
      "2\n",
      "2\n",
      "2\n",
      "2\n",
      "2\n",
      "2\n",
      "2\n",
      "2\n",
      "2\n",
      "2\n",
      "2\n",
      "2\n",
      "2\n",
      "2\n",
      "2\n",
      "2\n",
      "2\n",
      "3\n",
      "3\n",
      "3\n",
      "3\n",
      "3\n",
      "3\n",
      "3\n",
      "3\n",
      "3\n",
      "3\n",
      "3\n",
      "3\n",
      "3\n",
      "3\n",
      "3\n",
      "3\n",
      "3\n",
      "3\n",
      "3\n",
      "3\n",
      "3\n",
      "3\n",
      "3\n",
      "3\n",
      "3\n",
      "3\n",
      "3\n",
      "3\n",
      "3\n",
      "3\n",
      "3\n",
      "1\n",
      "1\n",
      "1\n",
      "1\n",
      "1\n",
      "1\n",
      "1\n",
      "1\n",
      "1\n",
      "1\n",
      "4\n",
      "4\n",
      "4\n",
      "4\n",
      "4\n",
      "4\n",
      "4\n",
      "4\n",
      "4\n",
      "4\n",
      "5\n",
      "5\n",
      "5\n",
      "5\n",
      "5\n",
      "5\n",
      "5\n",
      "5\n",
      "5\n",
      "5\n",
      "5\n",
      "5\n",
      "5\n",
      "5\n",
      "5\n",
      "5\n",
      "6\n",
      "6\n",
      "6\n",
      "6\n",
      "6\n",
      "6\n",
      "6\n",
      "6\n",
      "6\n",
      "6\n",
      "6\n",
      "6\n",
      "6\n",
      "6\n",
      "6\n",
      "6\n"
     ]
    }
   ],
   "source": [
    "import ngsolve as ngs\n",
    "for el in mesh.Elements(ngs.BBND):\n",
    "    print (el.index)"
   ]
  },
  {
   "cell_type": "code",
   "execution_count": 9,
   "id": "4eb98d4b",
   "metadata": {},
   "outputs": [
    {
     "name": "stdout",
     "output_type": "stream",
     "text": [
      "       1\n",
      "       2\n",
      " 3.14159\n",
      " 3.14159\n",
      "       1\n",
      "  1.5708\n",
      "  1.5708\n",
      "\n"
     ]
    }
   ],
   "source": [
    "print (ngs.Integrate(1, mesh, ngs.BBND, region_wise=True))"
   ]
  },
  {
   "cell_type": "code",
   "execution_count": null,
   "id": "8dd608b7",
   "metadata": {},
   "outputs": [],
   "source": []
  },
  {
   "cell_type": "code",
   "execution_count": null,
   "id": "23c61502",
   "metadata": {},
   "outputs": [],
   "source": []
  }
 ],
 "metadata": {
  "kernelspec": {
   "display_name": "Python 3",
   "language": "python",
   "name": "python3"
  },
  "language_info": {
   "codemirror_mode": {
    "name": "ipython",
    "version": 3
   },
   "file_extension": ".py",
   "mimetype": "text/x-python",
   "name": "python",
   "nbconvert_exporter": "python",
   "pygments_lexer": "ipython3",
   "version": "3.8.2"
  }
 },
 "nbformat": 4,
 "nbformat_minor": 5
}
