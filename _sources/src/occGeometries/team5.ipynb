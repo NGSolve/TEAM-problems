{
 "cells": [
  {
   "cell_type": "markdown",
   "id": "2b17ab27",
   "metadata": {},
   "source": [
    "TEAM benchmark 5 The Bath Cube (Revised)\n",
    "===\n",
    "\n",
    "https://www.compumag.org/wp/wp-content/uploads/2018/06/problem5-rev.pdf"
   ]
  },
  {
   "cell_type": "code",
   "execution_count": 1,
   "id": "e221d400",
   "metadata": {},
   "outputs": [],
   "source": [
    "from netgen.occ import *\n",
    "from ngsolve.webgui import Draw\n",
    "from ngsolve import Mesh"
   ]
  },
  {
   "cell_type": "markdown",
   "id": "skilled-chemistry",
   "metadata": {},
   "source": [
    "Bathtub:"
   ]
  },
  {
   "cell_type": "code",
   "execution_count": 2,
   "id": "3d762541",
   "metadata": {},
   "outputs": [],
   "source": [
    "outerbox = Box((-140,-140,-10), (140,140,100))\n",
    "innerbox = Box((-130,-130,0), (130,130,100))\n",
    "bathtub = outerbox - innerbox"
   ]
  },
  {
   "cell_type": "markdown",
   "id": "adverse-hammer",
   "metadata": {},
   "source": [
    "Conducting Blocks:"
   ]
  },
  {
   "cell_type": "code",
   "execution_count": 3,
   "id": "classified-silly",
   "metadata": {},
   "outputs": [],
   "source": [
    "cblocks = Box((-110,-110,4), (-40,-40,64))\n",
    "cblocks += Box((-110,40,4), (-40,110,64))\n",
    "cblocks += Box((40,-110,4), (110,-40,64))\n",
    "cblocks += Box((40,40,4), (110,110,64))"
   ]
  },
  {
   "cell_type": "markdown",
   "id": "under-musician",
   "metadata": {},
   "source": [
    "Pole:"
   ]
  },
  {
   "cell_type": "code",
   "execution_count": 4,
   "id": "recreational-hydrogen",
   "metadata": {},
   "outputs": [],
   "source": [
    "pole = Box((-90,-90,64), (90,90,130))"
   ]
  },
  {
   "cell_type": "code",
   "execution_count": 5,
   "id": "852172ab",
   "metadata": {},
   "outputs": [],
   "source": [
    "geo = OCCGeometry(bathtub + Glue([cblocks,pole]))"
   ]
  },
  {
   "cell_type": "code",
   "execution_count": 6,
   "id": "420e17cb",
   "metadata": {},
   "outputs": [
    {
     "data": {
      "application/vnd.jupyter.widget-view+json": {
       "model_id": "00c64711c3634485a3468b0aba4b43b2",
       "version_major": 2,
       "version_minor": 0
      },
      "text/plain": [
       "WebGuiWidget(value={'ngsolve_version': '6.2.2104-70-gf9a5bdca4', 'mesh_dim': 3, 'order2d': 2, 'order3d': 2, 'd…"
      ]
     },
     "metadata": {},
     "output_type": "display_data"
    }
   ],
   "source": [
    "mesh = Mesh(geo.GenerateMesh(maxh=10))\n",
    "mesh.Curve(3)\n",
    "Draw(mesh);"
   ]
  },
  {
   "cell_type": "code",
   "execution_count": null,
   "id": "22bd29ff",
   "metadata": {},
   "outputs": [],
   "source": []
  }
 ],
 "metadata": {
  "kernelspec": {
   "display_name": "Python 3",
   "language": "python",
   "name": "python3"
  },
  "language_info": {
   "codemirror_mode": {
    "name": "ipython",
    "version": 3
   },
   "file_extension": ".py",
   "mimetype": "text/x-python",
   "name": "python",
   "nbconvert_exporter": "python",
   "pygments_lexer": "ipython3",
   "version": "3.8.2"
  }
 },
 "nbformat": 4,
 "nbformat_minor": 5
}
