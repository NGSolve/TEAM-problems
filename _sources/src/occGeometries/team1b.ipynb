{
 "cells": [
  {
   "cell_type": "markdown",
   "id": "pregnant-temple",
   "metadata": {},
   "source": [
    "TEAM benchmark 1b The FELIX Short Cylinder Experiment\n",
    "===\n",
    "\n",
    "https://www.compumag.org/wp/wp-content/uploads/2018/06/problem1b.pdf"
   ]
  },
  {
   "cell_type": "code",
   "execution_count": 1,
   "id": "advised-banking",
   "metadata": {},
   "outputs": [],
   "source": [
    "from netgen.occ import *\n",
    "from ngsolve.webgui import Draw\n",
    "from ngsolve import Mesh"
   ]
  },
  {
   "cell_type": "code",
   "execution_count": 2,
   "id": "declared-jewel",
   "metadata": {},
   "outputs": [],
   "source": [
    "length = 0.2\n",
    "innerrad = 0.05715\n",
    "outerrad = 0.06985"
   ]
  },
  {
   "cell_type": "code",
   "execution_count": 3,
   "id": "unlikely-providence",
   "metadata": {},
   "outputs": [],
   "source": [
    "innercyl = Cylinder(p=(0,0,-1), d=Z, r=innerrad, h=length+1)\n",
    "outercyl = Cylinder(p=(0,0,0), d=Z, r=outerrad, h=length)\n",
    "cyl = outercyl - innercyl"
   ]
  },
  {
   "cell_type": "code",
   "execution_count": 5,
   "id": "quarterly-writing",
   "metadata": {
    "scrolled": true
   },
   "outputs": [
    {
     "data": {
      "application/vnd.jupyter.widget-view+json": {
       "model_id": "b40a503050de4220a10667948ae51ebd",
       "version_major": 2,
       "version_minor": 0
      },
      "text/plain": [
       "WebGuiWidget(value={'ngsolve_version': '6.2.2104-70-gf9a5bdca4', 'mesh_dim': 3, 'order2d': 2, 'order3d': 2, 'd…"
      ]
     },
     "metadata": {},
     "output_type": "display_data"
    }
   ],
   "source": [
    "geo = OCCGeometry(cyl)\n",
    "mesh = Mesh(geo.GenerateMesh(maxh=0.1))\n",
    "mesh.Curve(3)\n",
    "Draw(mesh);"
   ]
  },
  {
   "cell_type": "code",
   "execution_count": null,
   "id": "academic-bridges",
   "metadata": {},
   "outputs": [],
   "source": []
  }
 ],
 "metadata": {
  "kernelspec": {
   "display_name": "Python 3",
   "language": "python",
   "name": "python3"
  },
  "language_info": {
   "codemirror_mode": {
    "name": "ipython",
    "version": 3
   },
   "file_extension": ".py",
   "mimetype": "text/x-python",
   "name": "python",
   "nbconvert_exporter": "python",
   "pygments_lexer": "ipython3",
   "version": "3.8.2"
  }
 },
 "nbformat": 4,
 "nbformat_minor": 5
}
