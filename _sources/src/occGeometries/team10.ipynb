{
 "cells": [
  {
   "cell_type": "markdown",
   "id": "2b17ab27",
   "metadata": {},
   "source": [
    "TEAM benchmark 10 Steel Plates around a Coil\n",
    "===\n",
    "\n",
    "https://ftp.lstc.com/anonymous/outgoing/inaki/docs/pdf_em/Team10.pdf"
   ]
  },
  {
   "cell_type": "code",
   "execution_count": 1,
   "id": "e221d400",
   "metadata": {},
   "outputs": [],
   "source": [
    "from netgen.occ import *\n",
    "from ngsolve.webgui import Draw\n",
    "from netgen.webgui import Draw as DrawGeo\n",
    "#import netgen.gui\n",
    "from ngsolve import Mesh"
   ]
  },
  {
   "cell_type": "markdown",
   "id": "e88feb86",
   "metadata": {},
   "source": [
    "The coil:"
   ]
  },
  {
   "cell_type": "code",
   "execution_count": 2,
   "id": "5d48a53a",
   "metadata": {},
   "outputs": [],
   "source": [
    "wp = WorkPlane(gp_Ax3(p=(0,0,-50), n=Z, h=Y))\n",
    "wp.MoveTo(-50,-50).Rectangle(100,100).Offset(50)\n",
    "wp.MoveTo(-50,-50).Rectangle(100,100).Offset(25).Reverse()\n",
    "coil = wp.Face().Extrude(100)\n",
    "for f in coil.faces: f.col=(0,1,0)"
   ]
  },
  {
   "cell_type": "markdown",
   "id": "funky-atlas",
   "metadata": {},
   "source": [
    "The steel plates:"
   ]
  },
  {
   "cell_type": "code",
   "execution_count": 3,
   "id": "competent-terror",
   "metadata": {},
   "outputs": [],
   "source": [
    "wp = WorkPlane(gp_Ax3(p=(0,-25,0), n=Y, h=-X))\n",
    "wp.MoveTo(-2.1,-63.2).Rotate(90).Line(3.2).Rotate(90).Line(120).Rotate(-90).Line(120).Rotate(-90).Line(120).Rotate(90).Line(3.2).Rotate(90).Line(123.2).Rotate(90).Line(126.4).Close()\n",
    "plates = wp.Face().Extrude(50)\n",
    "\n",
    "trafo = gp_Trsf.Mirror(gp_Ax1((0,0,0), (0,0,1)))\n",
    "plates += trafo(plates)\n",
    "plates += Box((-1.6,-25,-63.2), (1.6,25,63.2))\n",
    "for f in plates.faces: f.col=(0.3,0.3,0.3)"
   ]
  },
  {
   "cell_type": "code",
   "execution_count": 4,
   "id": "bbee2958",
   "metadata": {},
   "outputs": [
    {
     "data": {
      "application/vnd.jupyter.widget-view+json": {
       "model_id": "3eaca7dcb0524408a955c5417f6e4de4",
       "version_major": 2,
       "version_minor": 0
      },
      "text/plain": [
       "WebGuiWidget(value={'ngsolve_version': 'Netgen x.x', 'mesh_dim': 3, 'mesh_center': [0.0, -7.105427357601002e-1…"
      ]
     },
     "metadata": {},
     "output_type": "display_data"
    }
   ],
   "source": [
    "DrawGeo (coil+plates);"
   ]
  },
  {
   "cell_type": "code",
   "execution_count": 5,
   "id": "852172ab",
   "metadata": {},
   "outputs": [],
   "source": [
    "geo = OCCGeometry(coil+plates)"
   ]
  },
  {
   "cell_type": "code",
   "execution_count": 6,
   "id": "420e17cb",
   "metadata": {},
   "outputs": [
    {
     "data": {
      "application/vnd.jupyter.widget-view+json": {
       "model_id": "16ce1c587261464692eb62a878de9fc1",
       "version_major": 2,
       "version_minor": 0
      },
      "text/plain": [
       "WebGuiWidget(value={'ngsolve_version': '6.2.2104-74-g70143ee25', 'mesh_dim': 3, 'order2d': 2, 'order3d': 2, 'd…"
      ]
     },
     "metadata": {},
     "output_type": "display_data"
    }
   ],
   "source": [
    "mesh = Mesh(geo.GenerateMesh(maxh=10))\n",
    "mesh.Curve(3)\n",
    "Draw(mesh);"
   ]
  },
  {
   "cell_type": "code",
   "execution_count": null,
   "id": "22bd29ff",
   "metadata": {},
   "outputs": [],
   "source": []
  }
 ],
 "metadata": {
  "kernelspec": {
   "display_name": "Python 3",
   "language": "python",
   "name": "python3"
  },
  "language_info": {
   "codemirror_mode": {
    "name": "ipython",
    "version": 3
   },
   "file_extension": ".py",
   "mimetype": "text/x-python",
   "name": "python",
   "nbconvert_exporter": "python",
   "pygments_lexer": "ipython3",
   "version": "3.8.2"
  }
 },
 "nbformat": 4,
 "nbformat_minor": 5
}
