{
 "cells": [
  {
   "cell_type": "code",
   "execution_count": 1,
   "id": "8d916f97",
   "metadata": {},
   "outputs": [],
   "source": [
    "from netgen.occ import *\n",
    "from netgen.webgui import Draw as DrawGeo"
   ]
  },
  {
   "cell_type": "code",
   "execution_count": 2,
   "id": "3637cb67",
   "metadata": {},
   "outputs": [],
   "source": [
    "wp = WorkPlane()\n",
    "for n in [\"bot\", \"right\", \"top\", \"left\"]:\n",
    "    wp.Line(1, name=n).Rotate(90).NameVertex(\"Vert\"+n)\n",
    "face = wp.Face()"
   ]
  },
  {
   "cell_type": "code",
   "execution_count": 3,
   "id": "eaebd4e2",
   "metadata": {},
   "outputs": [
    {
     "name": "stdout",
     "output_type": "stream",
     "text": [
      "bot\n",
      "right\n",
      "top\n",
      "left\n",
      "Vertleft\n",
      "Vertbot\n",
      "Vertbot\n",
      "Vertright\n",
      "Vertright\n",
      "Verttop\n",
      "Verttop\n",
      "Vertleft\n"
     ]
    }
   ],
   "source": [
    "for e in face.edges:\n",
    "    print (e.name)\n",
    "for v in face.vertices:\n",
    "    print (v.name)    "
   ]
  },
  {
   "cell_type": "code",
   "execution_count": 4,
   "id": "06aa264e",
   "metadata": {},
   "outputs": [
    {
     "name": "stdout",
     "output_type": "stream",
     "text": [
      "num edges 24\n",
      "Vertleft\n",
      "Vertbot\n",
      "None\n",
      "None\n",
      "Vertbot\n",
      "Vertright\n",
      "None\n",
      "None\n",
      "Vertright\n",
      "Verttop\n",
      "None\n",
      "None\n",
      "Verttop\n",
      "Vertleft\n",
      "None\n",
      "None\n",
      "None\n",
      "None\n",
      "None\n",
      "None\n",
      "None\n",
      "None\n",
      "None\n",
      "None\n"
     ]
    }
   ],
   "source": [
    "cube = face.Extrude(1)\n",
    "print (\"num edges\", len(cube.edges))\n",
    "for f in cube.edges:\n",
    "    print (f.name)"
   ]
  },
  {
   "cell_type": "code",
   "execution_count": 5,
   "id": "638fdcfe",
   "metadata": {},
   "outputs": [
    {
     "data": {
      "application/vnd.jupyter.widget-view+json": {
       "model_id": "fda9712bc0074d4c9abcfebfe7867219",
       "version_major": 2,
       "version_minor": 0
      },
      "text/plain": [
       "WebGuiWidget(layout=Layout(height='50vh', width='100%'), value={'ngsolve_version': 'Netgen x.x', 'mesh_dim': 3…"
      ]
     },
     "metadata": {},
     "output_type": "display_data"
    }
   ],
   "source": [
    "DrawGeo (cube);"
   ]
  },
  {
   "cell_type": "code",
   "execution_count": 6,
   "id": "2e844d16",
   "metadata": {},
   "outputs": [
    {
     "data": {
      "application/vnd.jupyter.widget-view+json": {
       "model_id": "df941445db094cd5acbe0bbc5eaeffff",
       "version_major": 2,
       "version_minor": 0
      },
      "text/plain": [
       "WebGuiWidget(layout=Layout(height='50vh', width='100%'), value={'ngsolve_version': 'Netgen x.x', 'mesh_dim': 3…"
      ]
     },
     "metadata": {},
     "output_type": "display_data"
    }
   ],
   "source": [
    "len(cube.edges[\"Vertright\"])\n",
    "cubef = cube.MakeFillet(cube.edges[\"Vertright\"]+cube.edges[\"right\"], 0.1)\n",
    "DrawGeo (cubef);"
   ]
  },
  {
   "cell_type": "code",
   "execution_count": 7,
   "id": "ad9f0458",
   "metadata": {},
   "outputs": [
    {
     "data": {
      "application/vnd.jupyter.widget-view+json": {
       "model_id": "293d62911a5f4f328b11571b33c4bddc",
       "version_major": 2,
       "version_minor": 0
      },
      "text/plain": [
       "WebGuiWidget(layout=Layout(height='50vh', width='100%'), value={'ngsolve_version': 'Netgen x.x', 'mesh_dim': 3…"
      ]
     },
     "metadata": {},
     "output_type": "display_data"
    }
   ],
   "source": [
    "face = WorkPlane().Line(2.5).Rotate(90).Line(1).Rotate(90).Line(1).NameVertex(\"v1\") \\\n",
    "    .Line(-0.5,1).NameVertex(\"v2\").Line(1).Close().Face()\n",
    "DrawGeo(face);"
   ]
  },
  {
   "cell_type": "code",
   "execution_count": 8,
   "id": "6013e4f0",
   "metadata": {},
   "outputs": [
    {
     "data": {
      "application/vnd.jupyter.widget-view+json": {
       "model_id": "9f7800ec402745978a6fac00c34ea3af",
       "version_major": 2,
       "version_minor": 0
      },
      "text/plain": [
       "WebGuiWidget(layout=Layout(height='50vh', width='100%'), value={'ngsolve_version': 'Netgen x.x', 'mesh_dim': 3…"
      ]
     },
     "metadata": {},
     "output_type": "display_data"
    }
   ],
   "source": [
    "ax = Axis((0,0,0), X)\n",
    "rev = face.Revolve(ax, 90)\n",
    "rev = rev.MakeFillet(rev.edges[\"v1\"], 0.2)\n",
    "rev = rev.MakeFillet(rev.edges[\"v2\"], 0.4)\n",
    "\n",
    "DrawGeo(rev);"
   ]
  },
  {
   "cell_type": "code",
   "execution_count": null,
   "id": "57953931",
   "metadata": {},
   "outputs": [],
   "source": []
  }
 ],
 "metadata": {
  "kernelspec": {
   "display_name": "Python 3 (ipykernel)",
   "language": "python",
   "name": "python3"
  },
  "language_info": {
   "codemirror_mode": {
    "name": "ipython",
    "version": 3
   },
   "file_extension": ".py",
   "mimetype": "text/x-python",
   "name": "python",
   "nbconvert_exporter": "python",
   "pygments_lexer": "ipython3",
   "version": "3.10.6"
  }
 },
 "nbformat": 4,
 "nbformat_minor": 5
}
