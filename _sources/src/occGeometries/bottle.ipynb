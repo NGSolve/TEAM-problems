{
 "cells": [
  {
   "cell_type": "markdown",
   "id": "7c583119",
   "metadata": {},
   "source": [
    "Bottle-tutorial\n",
    "===\n",
    "\n",
    "from\n",
    "\n",
    "https://dev.opencascade.org/doc/overview/html/occt__tutorial.html\n",
    "\n",
    "lookup the occ - tutorial for explanations."
   ]
  },
  {
   "cell_type": "code",
   "execution_count": 1,
   "id": "13e7636f",
   "metadata": {},
   "outputs": [],
   "source": [
    "from netgen.occ import *"
   ]
  },
  {
   "cell_type": "code",
   "execution_count": 2,
   "id": "98f3a607",
   "metadata": {},
   "outputs": [],
   "source": [
    "myHeight = 70\n",
    "myWidth = 50\n",
    "myThickness = 30"
   ]
  },
  {
   "cell_type": "code",
   "execution_count": 3,
   "id": "e6338da2",
   "metadata": {},
   "outputs": [],
   "source": [
    "pnt1 = gp_Pnt(-myWidth / 2., 0, 0);\n",
    "pnt2 = gp_Pnt(-myWidth / 2., -myThickness / 4., 0);\n",
    "pnt3 = gp_Pnt(0, -myThickness / 2., 0);\n",
    "pnt4 = gp_Pnt(myWidth / 2., -myThickness / 4., 0);\n",
    "pnt5 = gp_Pnt(myWidth / 2., 0, 0);"
   ]
  },
  {
   "cell_type": "code",
   "execution_count": 4,
   "id": "96441307",
   "metadata": {},
   "outputs": [],
   "source": [
    "seg1 = Segment(pnt1, pnt2)\n",
    "arc = ArcOfCircle(pnt2, pnt3, pnt4)\n",
    "seg2 = Segment(pnt4, pnt5)"
   ]
  },
  {
   "cell_type": "code",
   "execution_count": 5,
   "id": "8dc3844e",
   "metadata": {},
   "outputs": [
    {
     "name": "stdout",
     "output_type": "stream",
     "text": [
      "<class 'netgen.libngpy._NgOCC.TopoDS_Edge'> TopAbs_ShapeEnum.EDGE TopAbs_ShapeEnum.EDGE TopAbs_ShapeEnum.EDGE\n"
     ]
    }
   ],
   "source": [
    "print (type(seg1), seg1.type, arc.type, seg2.type)\n",
    "wire = Wire ([seg1, arc, seg2])"
   ]
  },
  {
   "cell_type": "code",
   "execution_count": 6,
   "id": "c2980b41",
   "metadata": {},
   "outputs": [],
   "source": [
    "# trafo = gp_Trsf().SetMirror(gp_Ax1((0,0,0), (1,0,0)))\n",
    "trafo = gp_Trsf.Mirror(gp_Ax1((0,0,0), (1,0,0)))\n",
    "mirrored_wire = trafo(wire)"
   ]
  },
  {
   "cell_type": "code",
   "execution_count": 7,
   "id": "dc1f2ddd",
   "metadata": {},
   "outputs": [],
   "source": [
    "w = Wire([wire, mirrored_wire])\n",
    "f = Face (w)\n",
    "body = Prism(f, gp_Vec((0,0,myHeight)))"
   ]
  },
  {
   "cell_type": "code",
   "execution_count": 8,
   "id": "574babc6",
   "metadata": {},
   "outputs": [],
   "source": [
    "edges = body.edges\n",
    "body = body.MakeFillet (edges, myThickness / 12.)"
   ]
  },
  {
   "cell_type": "code",
   "execution_count": 9,
   "id": "b01d2845",
   "metadata": {},
   "outputs": [],
   "source": [
    "from ngsolve import Mesh\n",
    "from ngsolve.webgui import Draw"
   ]
  },
  {
   "cell_type": "code",
   "execution_count": 10,
   "id": "da455fd3",
   "metadata": {},
   "outputs": [],
   "source": [
    "geo = OCCGeometry(body)\n",
    "mesh = Mesh(geo.GenerateMesh(maxh=5))"
   ]
  },
  {
   "cell_type": "code",
   "execution_count": 12,
   "id": "31bae082",
   "metadata": {},
   "outputs": [
    {
     "data": {
      "application/vnd.jupyter.widget-view+json": {
       "model_id": "165cc2eaf3954729973a9f8f07a9310e",
       "version_major": 2,
       "version_minor": 0
      },
      "text/plain": [
       "WebGuiWidget(value={'ngsolve_version': '6.2.2104-70-gf9a5bdca4', 'mesh_dim': 3, 'order2d': 1, 'order3d': 1, 'd…"
      ]
     },
     "metadata": {},
     "output_type": "display_data"
    }
   ],
   "source": [
    "Draw (mesh);"
   ]
  },
  {
   "cell_type": "markdown",
   "id": "353d930a",
   "metadata": {},
   "source": [
    "Adding the neck:\n",
    "---"
   ]
  },
  {
   "cell_type": "code",
   "execution_count": 13,
   "id": "ae627f8f",
   "metadata": {},
   "outputs": [],
   "source": [
    "# neckax2 = gp_Ax2( (0,0,myHeight), (0,0,1))\n",
    "neckax2 = gp_Ax2( body.faces.Max(Z).center, Z)"
   ]
  },
  {
   "cell_type": "code",
   "execution_count": 14,
   "id": "0f9d67b3",
   "metadata": {},
   "outputs": [],
   "source": [
    "myNeckRadius = myThickness / 4.\n",
    "myNeckHeight = myHeight / 10\n",
    "neck = Cylinder(neckax2, myNeckRadius, myNeckHeight);"
   ]
  },
  {
   "cell_type": "code",
   "execution_count": 15,
   "id": "98235101",
   "metadata": {},
   "outputs": [],
   "source": [
    "body = body+neck"
   ]
  },
  {
   "cell_type": "code",
   "execution_count": 17,
   "id": "e680a722",
   "metadata": {},
   "outputs": [
    {
     "data": {
      "application/vnd.jupyter.widget-view+json": {
       "model_id": "841506c25eda4472951c8f18c8a1c7cf",
       "version_major": 2,
       "version_minor": 0
      },
      "text/plain": [
       "WebGuiWidget(value={'ngsolve_version': '6.2.2104-70-gf9a5bdca4', 'mesh_dim': 3, 'order2d': 1, 'order3d': 1, 'd…"
      ]
     },
     "metadata": {},
     "output_type": "display_data"
    }
   ],
   "source": [
    "geo = OCCGeometry(body)\n",
    "mesh = Mesh(geo.GenerateMesh(maxh=5))\n",
    "Draw (mesh);"
   ]
  },
  {
   "cell_type": "markdown",
   "id": "97ee6b13",
   "metadata": {},
   "source": [
    "find face with maximal z-coordinate:"
   ]
  },
  {
   "cell_type": "code",
   "execution_count": 18,
   "id": "7c9d08de",
   "metadata": {},
   "outputs": [],
   "source": [
    "fmax = body.faces.Max(Z)"
   ]
  },
  {
   "cell_type": "code",
   "execution_count": 19,
   "id": "f226c8fd",
   "metadata": {},
   "outputs": [],
   "source": [
    "thickbody = body.MakeThickSolid([fmax], -myThickness / 50, 1.e-3)"
   ]
  },
  {
   "cell_type": "code",
   "execution_count": 20,
   "id": "145924c7",
   "metadata": {},
   "outputs": [
    {
     "data": {
      "application/vnd.jupyter.widget-view+json": {
       "model_id": "68f7a6c0f68a43b7ae6d7625888cc50e",
       "version_major": 2,
       "version_minor": 0
      },
      "text/plain": [
       "WebGuiWidget(value={'ngsolve_version': '6.2.2104-70-gf9a5bdca4', 'mesh_dim': 3, 'order2d': 1, 'order3d': 1, 'd…"
      ]
     },
     "metadata": {},
     "output_type": "display_data"
    }
   ],
   "source": [
    "geo = OCCGeometry(thickbody)\n",
    "mesh = Mesh(geo.GenerateMesh(maxh=3))\n",
    "Draw (mesh);"
   ]
  },
  {
   "cell_type": "code",
   "execution_count": 21,
   "id": "5564dc61",
   "metadata": {},
   "outputs": [],
   "source": [
    "cyl1 = Cylinder(neckax2, myNeckRadius * 0.99, 1).faces[0]\n",
    "cyl2 = Cylinder(neckax2, myNeckRadius * 1.05, 1).faces[0]"
   ]
  },
  {
   "cell_type": "code",
   "execution_count": 22,
   "id": "42af1324",
   "metadata": {},
   "outputs": [],
   "source": [
    "import math\n",
    "aPnt = gp_Pnt2d(2. * math.pi, myNeckHeight / 2.)\n",
    "aDir = gp_Dir2d( (2. * math.pi, myNeckHeight / 4.) )\n",
    "anAx2d = gp_Ax2d(aPnt, aDir)"
   ]
  },
  {
   "cell_type": "code",
   "execution_count": 23,
   "id": "1ae4c990",
   "metadata": {},
   "outputs": [],
   "source": [
    "aMajor = 2. * math.pi\n",
    "aMinor = myNeckHeight / 10\n",
    "arc1 = Ellipse(anAx2d, aMajor, aMinor).Trim(0, math.pi)\n",
    "arc2 = Ellipse(anAx2d, aMajor, aMinor/4).Trim(0, math.pi)"
   ]
  },
  {
   "cell_type": "code",
   "execution_count": 24,
   "id": "6e7aae6b",
   "metadata": {},
   "outputs": [],
   "source": [
    "seg = Segment(arc1.start, arc1.end)"
   ]
  },
  {
   "cell_type": "code",
   "execution_count": 25,
   "id": "bb941238",
   "metadata": {},
   "outputs": [],
   "source": [
    "wire1 = Wire( [Edge(arc1, cyl1), Edge(seg, cyl1)] )\n",
    "wire2 = Wire( [Edge(arc2, cyl2), Edge(seg, cyl2)] )"
   ]
  },
  {
   "cell_type": "code",
   "execution_count": 26,
   "id": "c044c1e4",
   "metadata": {},
   "outputs": [],
   "source": [
    "threading = ThruSections ([wire1, wire2])"
   ]
  },
  {
   "cell_type": "code",
   "execution_count": 27,
   "id": "d69ef381",
   "metadata": {},
   "outputs": [],
   "source": [
    "res = thickbody+threading\n",
    "geo = OCCGeometry(res)\n",
    "mesh = Mesh(geo.GenerateMesh(maxh=5))"
   ]
  },
  {
   "cell_type": "code",
   "execution_count": 28,
   "id": "d0b60169",
   "metadata": {},
   "outputs": [
    {
     "data": {
      "application/vnd.jupyter.widget-view+json": {
       "model_id": "8467e6e7aa0344bc82b604e33cc0b910",
       "version_major": 2,
       "version_minor": 0
      },
      "text/plain": [
       "WebGuiWidget(value={'ngsolve_version': '6.2.2104-70-gf9a5bdca4', 'mesh_dim': 3, 'order2d': 1, 'order3d': 1, 'd…"
      ]
     },
     "metadata": {},
     "output_type": "display_data"
    }
   ],
   "source": [
    "Draw (mesh);"
   ]
  },
  {
   "cell_type": "code",
   "execution_count": null,
   "id": "fac23a1d",
   "metadata": {},
   "outputs": [],
   "source": []
  }
 ],
 "metadata": {
  "kernelspec": {
   "display_name": "Python 3",
   "language": "python",
   "name": "python3"
  },
  "language_info": {
   "codemirror_mode": {
    "name": "ipython",
    "version": 3
   },
   "file_extension": ".py",
   "mimetype": "text/x-python",
   "name": "python",
   "nbconvert_exporter": "python",
   "pygments_lexer": "ipython3",
   "version": "3.8.2"
  }
 },
 "nbformat": 4,
 "nbformat_minor": 5
}
