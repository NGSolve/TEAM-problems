{
 "cells": [
  {
   "cell_type": "markdown",
   "id": "7f65cc63",
   "metadata": {},
   "source": [
    "Transformations\n",
    "==="
   ]
  },
  {
   "cell_type": "code",
   "execution_count": 1,
   "id": "6b4d24cc",
   "metadata": {},
   "outputs": [],
   "source": [
    "from netgen.occ import *\n",
    "from ngsolve import Mesh\n",
    "from ngsolve.webgui import Draw\n",
    "import math"
   ]
  },
  {
   "cell_type": "code",
   "execution_count": 2,
   "id": "9bbd9359",
   "metadata": {},
   "outputs": [],
   "source": [
    "obj = Box((0,0,0), (3,2,1)) + Sphere((0,0,0), 0.5)\n",
    "\n",
    "axes = gp_Ax3(p=gp_Pnt(9,0,0), n=gp_Dir((0,1,1)), h=gp_Dir((0,0,1)))\n",
    "orig = gp_Ax3(p=gp_Pnt(0,0,0), n=gp_Dir((0,0,1)), h=gp_Dir((1,0,0)))\n",
    "cyl = Cylinder(axes, 1,3)\n",
    "\n",
    "trafo1 = gp_Trsf.Transformation(axes, orig)\n",
    "trafo2 = gp_Trsf.Translation( (0,4,0) )\n",
    "trafo3 = gp_Trsf.Rotation( gp_Ax1((3,4,0), (0,0,1)), math.pi/2)\n",
    "\n",
    "res = obj + trafo1(obj) + trafo2(obj) + trafo3(obj)"
   ]
  },
  {
   "cell_type": "code",
   "execution_count": 3,
   "id": "63a86ef6",
   "metadata": {},
   "outputs": [
    {
     "name": "stdout",
     "output_type": "stream",
     "text": [
      "(9, 0, 0)\n"
     ]
    }
   ],
   "source": [
    "print (axes.p)"
   ]
  },
  {
   "cell_type": "code",
   "execution_count": 4,
   "id": "31e1e7e2",
   "metadata": {
    "scrolled": false
   },
   "outputs": [
    {
     "ename": "NgException",
     "evalue": "Problem in Surface mesh generation",
     "output_type": "error",
     "traceback": [
      "\u001b[0;31m---------------------------------------------------------------------------\u001b[0m",
      "\u001b[0;31mNgException\u001b[0m                               Traceback (most recent call last)",
      "\u001b[0;32m<ipython-input-4-a3f0e8651234>\u001b[0m in \u001b[0;36m<module>\u001b[0;34m\u001b[0m\n\u001b[0;32m----> 1\u001b[0;31m \u001b[0mmesh\u001b[0m \u001b[0;34m=\u001b[0m \u001b[0mMesh\u001b[0m\u001b[0;34m(\u001b[0m\u001b[0mOCCGeometry\u001b[0m\u001b[0;34m(\u001b[0m\u001b[0mres\u001b[0m\u001b[0;34m)\u001b[0m\u001b[0;34m.\u001b[0m\u001b[0mGenerateMesh\u001b[0m\u001b[0;34m(\u001b[0m\u001b[0mmaxh\u001b[0m\u001b[0;34m=\u001b[0m\u001b[0;36m0.5\u001b[0m\u001b[0;34m)\u001b[0m\u001b[0;34m)\u001b[0m\u001b[0;34m\u001b[0m\u001b[0;34m\u001b[0m\u001b[0m\n\u001b[0m\u001b[1;32m      2\u001b[0m \u001b[0mDraw\u001b[0m \u001b[0;34m(\u001b[0m\u001b[0mmesh\u001b[0m\u001b[0;34m)\u001b[0m\u001b[0;34m;\u001b[0m\u001b[0;34m\u001b[0m\u001b[0;34m\u001b[0m\u001b[0m\n",
      "\u001b[0;31mNgException\u001b[0m: Problem in Surface mesh generation"
     ]
    }
   ],
   "source": [
    "mesh = Mesh(OCCGeometry(res).GenerateMesh(maxh=0.5))\n",
    "Draw (mesh);"
   ]
  },
  {
   "cell_type": "code",
   "execution_count": null,
   "id": "2c759482",
   "metadata": {},
   "outputs": [],
   "source": []
  },
  {
   "cell_type": "code",
   "execution_count": null,
   "id": "bf639f19",
   "metadata": {},
   "outputs": [],
   "source": []
  }
 ],
 "metadata": {
  "kernelspec": {
   "display_name": "Python 3",
   "language": "python",
   "name": "python3"
  },
  "language_info": {
   "codemirror_mode": {
    "name": "ipython",
    "version": 3
   },
   "file_extension": ".py",
   "mimetype": "text/x-python",
   "name": "python",
   "nbconvert_exporter": "python",
   "pygments_lexer": "ipython3",
   "version": "3.8.2"
  }
 },
 "nbformat": 4,
 "nbformat_minor": 5
}
