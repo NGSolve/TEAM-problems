{
 "cells": [
  {
   "cell_type": "markdown",
   "id": "pregnant-temple",
   "metadata": {},
   "source": [
    "TEAM benchmark 2 Infinitely Long Cylinder in a Sinusoidal Field\n",
    "===\n",
    "\n",
    "https://www.compumag.org/wp/wp-content/uploads/2018/06/problem2.pdf"
   ]
  },
  {
   "cell_type": "code",
   "execution_count": 5,
   "id": "advised-banking",
   "metadata": {},
   "outputs": [],
   "source": [
    "from netgen.occ import *\n",
    "from ngsolve.webgui import Draw\n",
    "from ngsolve import Mesh"
   ]
  },
  {
   "cell_type": "code",
   "execution_count": 25,
   "id": "declared-jewel",
   "metadata": {},
   "outputs": [
    {
     "data": {
      "application/vnd.jupyter.widget-view+json": {
       "model_id": "73914c3739104bb39a0e4f2f42875911",
       "version_major": 2,
       "version_minor": 0
      },
      "text/plain": [
       "WebGuiWidget(value={'ngsolve_version': '6.2.2104-70-gf9a5bdca4', 'mesh_dim': 3, 'order2d': 2, 'order3d': 2, 'd…"
      ]
     },
     "metadata": {},
     "output_type": "display_data"
    }
   ],
   "source": [
    "length = 0.2\n",
    "innerrad = 0.05715\n",
    "outerrad = 0.06985\n",
    "\n",
    "outercirc = Face(Wire([Circle(gp_Pnt(0,0,0), gp_Dir(0,0,1), outerrad)]))\n",
    "innercirc = Face(Wire([Circle(gp_Pnt(0,0,0), gp_Dir(0,0,1), innerrad)]))\n",
    "ring = outercirc - innercirc\n",
    "\n",
    "geo = OCCGeometry(face)\n",
    "mesh = Mesh(geo.GenerateMesh(maxh=5))\n",
    "mesh.Curve(3)\n",
    "Draw (mesh);"
   ]
  },
  {
   "cell_type": "markdown",
   "id": "satellite-wellington",
   "metadata": {},
   "source": [
    "2D Geometries intended in OCC?"
   ]
  },
  {
   "cell_type": "code",
   "execution_count": null,
   "id": "instant-hobby",
   "metadata": {},
   "outputs": [],
   "source": []
  }
 ],
 "metadata": {
  "kernelspec": {
   "display_name": "Python 3",
   "language": "python",
   "name": "python3"
  },
  "language_info": {
   "codemirror_mode": {
    "name": "ipython",
    "version": 3
   },
   "file_extension": ".py",
   "mimetype": "text/x-python",
   "name": "python",
   "nbconvert_exporter": "python",
   "pygments_lexer": "ipython3",
   "version": "3.8.2"
  }
 },
 "nbformat": 4,
 "nbformat_minor": 5
}
