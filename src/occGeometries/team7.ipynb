{
 "cells": [
  {
   "cell_type": "markdown",
   "id": "2b17ab27",
   "metadata": {},
   "source": [
    "TEAM benchmark 7\n",
    "===\n",
    "\n",
    "https://www.compumag.org/wp/wp-content/uploads/2018/06/problem7.pdf"
   ]
  },
  {
   "cell_type": "code",
   "execution_count": 1,
   "id": "e221d400",
   "metadata": {},
   "outputs": [],
   "source": [
    "from netgen.occ import *\n",
    "from ngsolve.webgui import Draw\n",
    "from ngsolve import Mesh"
   ]
  },
  {
   "cell_type": "markdown",
   "id": "ad397997",
   "metadata": {},
   "source": [
    "The aluminum plate:"
   ]
  },
  {
   "cell_type": "code",
   "execution_count": 2,
   "id": "3d762541",
   "metadata": {},
   "outputs": [],
   "source": [
    "wp = WorkPlane(gp_Ax3(p=(0,0,0), n=Z, h=X))\n",
    "wp.Rectangle(294,294)\n",
    "wp.MoveTo(18,18).Rectangle(108,108).Reverse()\n",
    "plate = wp.Face().Extrude(19)"
   ]
  },
  {
   "cell_type": "markdown",
   "id": "e88feb86",
   "metadata": {},
   "source": [
    "The coil:"
   ]
  },
  {
   "cell_type": "code",
   "execution_count": 8,
   "id": "5d48a53a",
   "metadata": {},
   "outputs": [],
   "source": [
    "wp = WorkPlane(gp_Ax3(p=(294,0,49), n=Z, h=Y))\n",
    "wp.MoveTo(50,50).Rectangle(100,100).Offset(25)\n",
    "wp.MoveTo(50,50).Rectangle(100,100).Offset(50).Reverse()\n",
    "coil = wp.Face().Extrude(100)"
   ]
  },
  {
   "cell_type": "code",
   "execution_count": 9,
   "id": "852172ab",
   "metadata": {},
   "outputs": [
    {
     "data": {
      "application/vnd.jupyter.widget-view+json": {
       "model_id": "23fe267a86e74d41b5a174dacb765781",
       "version_major": 2,
       "version_minor": 0
      },
      "text/plain": [
       "WebGuiWidget(layout=Layout(height='500px', width='100%'), value={'ngsolve_version': 'Netgen x.x', 'mesh_dim': …"
      ]
     },
     "metadata": {},
     "output_type": "display_data"
    },
    {
     "data": {
      "text/plain": [
       "BaseWebGuiScene"
      ]
     },
     "execution_count": 9,
     "metadata": {},
     "output_type": "execute_result"
    }
   ],
   "source": [
    "geoData = Glue([coil,plate])\n",
    "\n",
    "geo = OCCGeometry(geoData)\n",
    "\n",
    "from netgen.webgui import Draw as DrawGeo\n",
    "\n",
    "DrawGeo(geoData)"
   ]
  },
  {
   "cell_type": "code",
   "execution_count": 10,
   "id": "420e17cb",
   "metadata": {},
   "outputs": [
    {
     "data": {
      "application/vnd.jupyter.widget-view+json": {
       "model_id": "a9ff20a77035484a91b45c27c430e19d",
       "version_major": 2,
       "version_minor": 0
      },
      "text/plain": [
       "WebGuiWidget(layout=Layout(height='500px', width='100%'), value={'gui_settings': {}, 'ngsolve_version': '6.2.2…"
      ]
     },
     "metadata": {},
     "output_type": "display_data"
    }
   ],
   "source": [
    "mesh = Mesh(geo.GenerateMesh(maxh=10))\n",
    "mesh.Curve(3)\n",
    "Draw(mesh);"
   ]
  },
  {
   "cell_type": "code",
   "execution_count": null,
   "id": "9fd16cc0",
   "metadata": {},
   "outputs": [],
   "source": []
  }
 ],
 "metadata": {
  "kernelspec": {
   "display_name": "Python 3 (ipykernel)",
   "language": "python",
   "name": "python3"
  },
  "language_info": {
   "codemirror_mode": {
    "name": "ipython",
    "version": 3
   },
   "file_extension": ".py",
   "mimetype": "text/x-python",
   "name": "python",
   "nbconvert_exporter": "python",
   "pygments_lexer": "ipython3",
   "version": "3.10.12"
  }
 },
 "nbformat": 4,
 "nbformat_minor": 5
}
