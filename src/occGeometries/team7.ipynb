{
 "cells": [
  {
   "cell_type": "markdown",
   "id": "2b17ab27",
   "metadata": {},
   "source": [
    "TEAM benchmark 7\n",
    "===\n",
    "\n",
    "https://www.compumag.org/wp/wp-content/uploads/2018/06/problem7.pdf"
   ]
  },
  {
   "cell_type": "code",
   "execution_count": 1,
   "id": "6299d6e0-c01b-4ec7-8ce5-f6b288584688",
   "metadata": {},
   "outputs": [
    {
     "name": "stdout",
     "output_type": "stream",
     "text": [
      "/usr/bin:/home/vhanser/.local/bin:/opt/intel/oneapi/mkl/2023.0.0/bin/intel64:/opt/intel/oneapi/compiler/2023.0.0/linux/bin/intel64:/opt/intel/oneapi/compiler/2023.0.0/linux/bin:/home/vhanser/ngsuite/ngsolve-install/bin:/home/vhanser/.local/bin:/usr/local/sbin:/usr/local/bin:/usr/sbin:/usr/bin:/sbin:/bin:/usr/games:/usr/local/games:/snap/bin:/snap/bin:/home/vhanser/Documents/ngmultiscale:/home/vhanser/Downloads/opencascade-7.6.0/build/lin64/gcc/lib:/home/vhanser/.local/bin:/opt/intel/oneapi/mkl/2023.0.0/bin/intel64:/opt/intel/oneapi/compiler/2023.0.0/linux/bin/intel64:/opt/intel/oneapi/compiler/2023.0.0/linux/bin:/home/vhanser/ngsuite/ngsolve-install/bin:/home/vhanser/.local/bin:/usr/local/sbin:/usr/local/bin:/usr/sbin:/usr/bin:/sbin:/bin:/usr/games:/usr/local/games:/snap/bin:/snap/bin:/home/vhanser/Documents/ngmultiscale:/home/vhanser/Downloads/opencascade-7.6.0/build/lin64/gcc/lib\n"
     ]
    }
   ],
   "source": [
    "! echo $PATH\n",
    "\n",
    "\n",
    "import ngsolve"
   ]
  },
  {
   "cell_type": "code",
   "execution_count": 2,
   "id": "e221d400",
   "metadata": {},
   "outputs": [],
   "source": [
    "from netgen.occ import *\n",
    "from ngsolve.webgui import Draw\n",
    "from ngsolve import Mesh"
   ]
  },
  {
   "cell_type": "markdown",
   "id": "ad397997",
   "metadata": {},
   "source": [
    "The aluminum plate:"
   ]
  },
  {
   "cell_type": "code",
   "execution_count": 3,
   "id": "3d762541",
   "metadata": {},
   "outputs": [],
   "source": [
    "wp = WorkPlane(gp_Ax3(p=(0,0,0), n=Z, h=X))\n",
    "wp.Rectangle(294,294)\n",
    "wp.MoveTo(18,18).Rectangle(108,108).Reverse()\n",
    "plate = wp.Face().Extrude(19)"
   ]
  },
  {
   "cell_type": "markdown",
   "id": "e88feb86",
   "metadata": {},
   "source": [
    "The coil:"
   ]
  },
  {
   "cell_type": "code",
   "execution_count": 4,
   "id": "5d48a53a",
   "metadata": {},
   "outputs": [],
   "source": [
    "wp = WorkPlane(gp_Ax3(p=(294,0,49), n=Z, h=Y))\n",
    "wp.MoveTo(50,50).Rectangle(100,100).Offset(25).Reverse()\n",
    "wp.MoveTo(50,50).Rectangle(100,100).Offset(50)\n",
    "coil = wp.Face().Extrude(100)"
   ]
  },
  {
   "cell_type": "code",
   "execution_count": 9,
   "id": "852172ab",
   "metadata": {},
   "outputs": [
    {
     "ename": "RuntimeError",
     "evalue": "Cannot draw object of type <class 'netgen.libngpy._NgOCC.OCCGeometry'>",
     "output_type": "error",
     "traceback": [
      "\u001b[0;31m---------------------------------------------------------------------------\u001b[0m",
      "\u001b[0;31mRuntimeError\u001b[0m                              Traceback (most recent call last)",
      "Cell \u001b[0;32mIn[9], line 4\u001b[0m\n\u001b[1;32m      1\u001b[0m geo \u001b[38;5;241m=\u001b[39m OCCGeometry(Glue([coil,plate]))\n\u001b[1;32m      3\u001b[0m \u001b[38;5;28;01mfrom\u001b[39;00m \u001b[38;5;21;01mnetgen\u001b[39;00m\u001b[38;5;21;01m.\u001b[39;00m\u001b[38;5;21;01mwebgui\u001b[39;00m \u001b[38;5;28;01mimport\u001b[39;00m Draw \u001b[38;5;28;01mas\u001b[39;00m DrawGeo\n\u001b[0;32m----> 4\u001b[0m \u001b[43mDrawGeo\u001b[49m\u001b[43m(\u001b[49m\u001b[43mgeo\u001b[49m\u001b[43m)\u001b[49m\n",
      "File \u001b[0;32m~/ngsuite/ngsolve-install/lib/python3.10/dist-packages/netgen/webgui.py:394\u001b[0m, in \u001b[0;36mDraw\u001b[0;34m(obj, show, *args, **kwargs)\u001b[0m\n\u001b[1;32m    392\u001b[0m             scene\u001b[38;5;241m.\u001b[39mDraw()\n\u001b[1;32m    393\u001b[0m         \u001b[38;5;28;01melse\u001b[39;00m:\n\u001b[0;32m--> 394\u001b[0m             \u001b[43mscene\u001b[49m\u001b[38;5;241;43m.\u001b[39;49m\u001b[43mDraw\u001b[49m\u001b[43m(\u001b[49m\n\u001b[1;32m    395\u001b[0m \u001b[43m                \u001b[49m\u001b[43mkwargs_with_defaults\u001b[49m\u001b[43m[\u001b[49m\u001b[38;5;124;43m\"\u001b[39;49m\u001b[38;5;124;43mwidth\u001b[39;49m\u001b[38;5;124;43m\"\u001b[39;49m\u001b[43m]\u001b[49m\u001b[43m,\u001b[49m\u001b[43m \u001b[49m\u001b[43mkwargs_with_defaults\u001b[49m\u001b[43m[\u001b[49m\u001b[38;5;124;43m\"\u001b[39;49m\u001b[38;5;124;43mheight\u001b[39;49m\u001b[38;5;124;43m\"\u001b[39;49m\u001b[43m]\u001b[49m\n\u001b[1;32m    396\u001b[0m \u001b[43m            \u001b[49m\u001b[43m)\u001b[49m\n\u001b[1;32m    397\u001b[0m         \u001b[38;5;28;01mreturn\u001b[39;00m scene\n\u001b[1;32m    398\u001b[0m \u001b[38;5;28;01melse\u001b[39;00m:\n",
      "File \u001b[0;32m~/.local/lib/python3.10/site-packages/webgui_jupyter_widgets/widget.py:76\u001b[0m, in \u001b[0;36mBaseWebGuiScene.Draw\u001b[0;34m(self, width, height)\u001b[0m\n\u001b[1;32m     74\u001b[0m \u001b[38;5;28mself\u001b[39m\u001b[38;5;241m.\u001b[39mwidget \u001b[38;5;241m=\u001b[39m WebGuiWidget(layout\u001b[38;5;241m=\u001b[39mlayout)\n\u001b[1;32m     75\u001b[0m \u001b[38;5;28mself\u001b[39m\u001b[38;5;241m.\u001b[39mencoding\u001b[38;5;241m=\u001b[39m\u001b[38;5;124m'\u001b[39m\u001b[38;5;124mbinary\u001b[39m\u001b[38;5;124m'\u001b[39m\n\u001b[0;32m---> 76\u001b[0m \u001b[38;5;28mself\u001b[39m\u001b[38;5;241m.\u001b[39mwidget\u001b[38;5;241m.\u001b[39mvalue \u001b[38;5;241m=\u001b[39m \u001b[38;5;28;43mself\u001b[39;49m\u001b[38;5;241;43m.\u001b[39;49m\u001b[43mGetData\u001b[49m\u001b[43m(\u001b[49m\u001b[43m)\u001b[49m\n\u001b[1;32m     77\u001b[0m display(\u001b[38;5;28mself\u001b[39m\u001b[38;5;241m.\u001b[39mwidget)\n",
      "File \u001b[0;32m~/ngsuite/ngsolve-install/lib/python3.10/dist-packages/netgen/webgui.py:260\u001b[0m, in \u001b[0;36mWebGLScene.GetData\u001b[0;34m(self, set_minmax)\u001b[0m\n\u001b[1;32m    257\u001b[0m         ep[i] \u001b[38;5;241m=\u001b[39m encodeData(np\u001b[38;5;241m.\u001b[39marray(ep[i], dtype\u001b[38;5;241m=\u001b[39mnp\u001b[38;5;241m.\u001b[39mfloat32))\n\u001b[1;32m    259\u001b[0m \u001b[38;5;28;01mif\u001b[39;00m d \u001b[38;5;129;01mis\u001b[39;00m \u001b[38;5;28;01mNone\u001b[39;00m:\n\u001b[0;32m--> 260\u001b[0m     \u001b[38;5;28;01mraise\u001b[39;00m \u001b[38;5;167;01mRuntimeError\u001b[39;00m(\u001b[38;5;124mf\u001b[39m\u001b[38;5;124m\"\u001b[39m\u001b[38;5;124mCannot draw object of type \u001b[39m\u001b[38;5;132;01m{\u001b[39;00mtyp\u001b[38;5;132;01m}\u001b[39;00m\u001b[38;5;124m\"\u001b[39m)\n\u001b[1;32m    262\u001b[0m args \u001b[38;5;241m=\u001b[39m \u001b[38;5;28mself\u001b[39m\u001b[38;5;241m.\u001b[39margs\n\u001b[1;32m    263\u001b[0m kwargs \u001b[38;5;241m=\u001b[39m \u001b[38;5;28mself\u001b[39m\u001b[38;5;241m.\u001b[39mkwargs\n",
      "\u001b[0;31mRuntimeError\u001b[0m: Cannot draw object of type <class 'netgen.libngpy._NgOCC.OCCGeometry'>"
     ]
    }
   ],
   "source": [
    "geo = OCCGeometry(Glue([coil,plate]))\n",
    "\n",
    "from netgen.webgui import Draw as DrawGeo\n",
    "\n",
    "DrawGeo(geo)"
   ]
  },
  {
   "cell_type": "code",
   "execution_count": 5,
   "id": "420e17cb",
   "metadata": {},
   "outputs": [
    {
     "data": {
      "application/vnd.jupyter.widget-view+json": {
       "model_id": "6d659897eec14a3688aec29f5f8e74e5",
       "version_major": 2,
       "version_minor": 0
      },
      "text/plain": [
       "WebGuiWidget(value={'ngsolve_version': '6.2.2104-70-gf9a5bdca4', 'mesh_dim': 3, 'order2d': 2, 'order3d': 2, 'd…"
      ]
     },
     "metadata": {},
     "output_type": "display_data"
    }
   ],
   "source": [
    "mesh = Mesh(geo.GenerateMesh(maxh=10))\n",
    "mesh.Curve(3)\n",
    "Draw(mesh);"
   ]
  }
 ],
 "metadata": {
  "kernelspec": {
   "display_name": "Python 3 (ipykernel)",
   "language": "python",
   "name": "python3"
  },
  "language_info": {
   "codemirror_mode": {
    "name": "ipython",
    "version": 3
   },
   "file_extension": ".py",
   "mimetype": "text/x-python",
   "name": "python",
   "nbconvert_exporter": "python",
   "pygments_lexer": "ipython3",
   "version": "3.10.12"
  }
 },
 "nbformat": 4,
 "nbformat_minor": 5
}
