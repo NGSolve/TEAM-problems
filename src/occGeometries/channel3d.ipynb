{
 "cells": [
  {
   "cell_type": "code",
   "execution_count": 1,
   "id": "403a3eda",
   "metadata": {},
   "outputs": [],
   "source": [
    "from netgen.occ import *\n",
    "from ngsolve import Mesh, Draw\n",
    "# from ngsolve.webgui import Draw\n",
    "import netgen.gui"
   ]
  },
  {
   "cell_type": "code",
   "execution_count": 2,
   "id": "977b0b00",
   "metadata": {},
   "outputs": [],
   "source": [
    "box = Box((0,0,0), (2.5,0.41,0.41))\n",
    "box.bc(\"wall\")\n",
    "for f in box.faces:\n",
    "    f.col=(0.3,0.3,0.3)\n",
    "fin = box.faces.Max(-X)\n",
    "fout = box.faces.Max(X)\n",
    "fin.bc(\"inlet\")\n",
    "fout.bc(\"outlet\")\n",
    "fin.col=(1,0,0)\n",
    "fout.col=(0,1,0)\n",
    "cyl = Cylinder(p=(0.5,0.2,0), d=Z, r=0.05, h=0.41)\n",
    "cyl.bc(\"wall\")\n",
    "for f in cyl.faces: \n",
    "    f.col=(0,0,1)\n",
    "res = box-cyl"
   ]
  },
  {
   "cell_type": "code",
   "execution_count": 3,
   "id": "3c3950bf",
   "metadata": {},
   "outputs": [],
   "source": [
    "geo = OCCGeometry(res)\n",
    "mesh = Mesh(geo.GenerateMesh(maxh=0.1))"
   ]
  },
  {
   "cell_type": "code",
   "execution_count": 4,
   "id": "8478cf46",
   "metadata": {},
   "outputs": [
    {
     "name": "stdout",
     "output_type": "stream",
     "text": [
      "('inlet', 'wall', 'wall', 'wall', 'wall', 'outlet', 'wall')\n"
     ]
    }
   ],
   "source": [
    "print (mesh.GetBoundaries())\n",
    "Draw(mesh);"
   ]
  },
  {
   "cell_type": "code",
   "execution_count": null,
   "id": "8da9a532",
   "metadata": {},
   "outputs": [],
   "source": []
  },
  {
   "cell_type": "code",
   "execution_count": null,
   "id": "1e29fcb8",
   "metadata": {},
   "outputs": [],
   "source": []
  }
 ],
 "metadata": {
  "kernelspec": {
   "display_name": "Python 3",
   "language": "python",
   "name": "python3"
  },
  "language_info": {
   "codemirror_mode": {
    "name": "ipython",
    "version": 3
   },
   "file_extension": ".py",
   "mimetype": "text/x-python",
   "name": "python",
   "nbconvert_exporter": "python",
   "pygments_lexer": "ipython3",
   "version": "3.8.2"
  }
 },
 "nbformat": 4,
 "nbformat_minor": 5
}
