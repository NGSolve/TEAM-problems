{
 "cells": [
  {
   "cell_type": "code",
   "execution_count": null,
   "id": "cfd20eb6",
   "metadata": {},
   "outputs": [],
   "source": [
    "from netgen.occ import *\n",
    "from netgen.webgui import Draw as DrawGeo\n",
    "import math"
   ]
  },
  {
   "cell_type": "code",
   "execution_count": null,
   "id": "48334817",
   "metadata": {},
   "outputs": [],
   "source": [
    "face = WorkPlane().MoveTo(-0.5, -0.5).Rectangle(1,1).Face()"
   ]
  },
  {
   "cell_type": "code",
   "execution_count": null,
   "id": "d8b6b75e",
   "metadata": {},
   "outputs": [],
   "source": [
    "spine = Segment((0,0,0), (0,0,1))\n",
    "cyl = Cylinder((0,0,0), Z, r=1, h=1).faces[0]\n",
    "heli = Edge(Segment((0,0), (2*math.pi, 1)), cyl)"
   ]
  },
  {
   "cell_type": "code",
   "execution_count": null,
   "id": "a18b37c4",
   "metadata": {},
   "outputs": [],
   "source": [
    "# pipe = Pipe (spine, face, twist=((0,0,0), 90)) # not yet working\n",
    "pipe = Pipe (spine, face, auxspine=heli)"
   ]
  },
  {
   "cell_type": "code",
   "execution_count": null,
   "id": "76a197f5",
   "metadata": {},
   "outputs": [],
   "source": [
    "DrawGeo (pipe);"
   ]
  },
  {
   "cell_type": "code",
   "execution_count": null,
   "id": "291fd4f1",
   "metadata": {},
   "outputs": [],
   "source": [
    "from ngsolve import *\n",
    "from ngsolve.webgui import Draw\n",
    "\n",
    "mesh = Mesh(OCCGeometry(pipe).GenerateMesh(maxh=0.2))\n",
    "mesh.Curve(3)\n",
    "Draw (mesh);\n",
    "\n",
    "# mesh.GetNE(VOL)"
   ]
  },
  {
   "cell_type": "markdown",
   "id": "90730701",
   "metadata": {},
   "source": [
    "# Twisted grooves "
   ]
  },
  {
   "cell_type": "code",
   "execution_count": null,
   "id": "27cf3d37",
   "metadata": {},
   "outputs": [],
   "source": [
    "ri = 9\n",
    "ro = 10\n",
    "num = 6\n",
    "\n",
    "spine = Segment((0,0,0), (0,0,3))\n",
    "cyl = Cylinder((0,0,0), Z, r=1, h=3).faces[0]\n",
    "heli = Edge(Segment((0,0), (2*math.pi/(2*num), 3)), cyl)"
   ]
  },
  {
   "cell_type": "code",
   "execution_count": null,
   "id": "5e5ea660",
   "metadata": {},
   "outputs": [],
   "source": [
    "cyl = Cylinder((0,0,0), Z, r=ro, h=3)\n",
    "\n",
    "for i in range(num):\n",
    "    wp = WorkPlane().Rotate(360*i/num).Move(ro).Rotate(90)\n",
    "    wp.Arc(ro,20).Finish().Offset(ro-ri)\n",
    "    groove = Pipe(spine, wp.Face(), auxspine=heli)\n",
    "    cyl -= groove\n",
    "\n",
    "DrawGeo (cyl);"
   ]
  },
  {
   "cell_type": "code",
   "execution_count": null,
   "id": "d7fd85f1",
   "metadata": {},
   "outputs": [],
   "source": [
    "mesh = Mesh(OCCGeometry(cyl).GenerateMesh(maxh=1))\n",
    "mesh.Curve(3)\n",
    "Draw (mesh);"
   ]
  },
  {
   "cell_type": "code",
   "execution_count": null,
   "id": "5d9a4c81",
   "metadata": {},
   "outputs": [],
   "source": []
  }
 ],
 "metadata": {
  "kernelspec": {
   "display_name": "Python 3",
   "language": "python",
   "name": "python3"
  },
  "language_info": {
   "codemirror_mode": {
    "name": "ipython",
    "version": 3
   },
   "file_extension": ".py",
   "mimetype": "text/x-python",
   "name": "python",
   "nbconvert_exporter": "python",
   "pygments_lexer": "ipython3",
   "version": "3.9.6"
  }
 },
 "nbformat": 4,
 "nbformat_minor": 5
}
