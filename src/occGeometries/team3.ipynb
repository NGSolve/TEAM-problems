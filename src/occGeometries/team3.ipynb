{
 "cells": [
  {
   "cell_type": "markdown",
   "id": "2b17ab27",
   "metadata": {},
   "source": [
    "TEAM benchmark 3 Bath Plate with 2 Holes\n",
    "===\n",
    "\n",
    "https://www.compumag.org/wp/wp-content/uploads/2018/06/problem3.pdf"
   ]
  },
  {
   "cell_type": "code",
   "execution_count": 52,
   "id": "e221d400",
   "metadata": {},
   "outputs": [],
   "source": [
    "from netgen.occ import *\n",
    "from ngsolve.webgui import Draw\n",
    "from ngsolve import Mesh"
   ]
  },
  {
   "cell_type": "markdown",
   "id": "ad397997",
   "metadata": {},
   "source": [
    "The ladder:"
   ]
  },
  {
   "cell_type": "code",
   "execution_count": 53,
   "id": "3d762541",
   "metadata": {},
   "outputs": [],
   "source": [
    "wp = WorkPlane(gp_Ax3(p=(0,0,0), n=Z, h=X))\n",
    "wp.MoveTo(-20,-35).Rectangle(40,30).Reverse()\n",
    "wp.MoveTo(-20,5).Rectangle(40,30).Reverse()\n",
    "wp.MoveTo(-30,-55).Rectangle(60,110)\n",
    "#wp.MoveTo(18,18).Rectangle(108,108).Reverse()\n",
    "plate = wp.Face().Extrude(-6.35)"
   ]
  },
  {
   "cell_type": "markdown",
   "id": "e88feb86",
   "metadata": {},
   "source": [
    "The coil:"
   ]
  },
  {
   "cell_type": "code",
   "execution_count": 54,
   "id": "touched-asthma",
   "metadata": {},
   "outputs": [],
   "source": [
    "innercyl = Cylinder(p=(0,0,10), d=Z, r=20, h=20)\n",
    "outercyl = Cylinder(p=(0,0,10), d=Z, r=40, h=20)\n",
    "coil = outercyl - innercyl"
   ]
  },
  {
   "cell_type": "code",
   "execution_count": 55,
   "id": "852172ab",
   "metadata": {},
   "outputs": [],
   "source": [
    "geo = OCCGeometry(Glue([coil,plate]))"
   ]
  },
  {
   "cell_type": "code",
   "execution_count": 56,
   "id": "420e17cb",
   "metadata": {},
   "outputs": [
    {
     "data": {
      "application/vnd.jupyter.widget-view+json": {
       "model_id": "2f174d454e6d4e22b73035c3b53c42e7",
       "version_major": 2,
       "version_minor": 0
      },
      "text/plain": [
       "WebGuiWidget(value={'ngsolve_version': '6.2.2104-70-gf9a5bdca4', 'mesh_dim': 3, 'order2d': 2, 'order3d': 2, 'd…"
      ]
     },
     "metadata": {},
     "output_type": "display_data"
    }
   ],
   "source": [
    "mesh = Mesh(geo.GenerateMesh(maxh=10))\n",
    "mesh.Curve(3)\n",
    "Draw(mesh);"
   ]
  },
  {
   "cell_type": "code",
   "execution_count": null,
   "id": "22bd29ff",
   "metadata": {},
   "outputs": [],
   "source": []
  }
 ],
 "metadata": {
  "kernelspec": {
   "display_name": "Python 3",
   "language": "python",
   "name": "python3"
  },
  "language_info": {
   "codemirror_mode": {
    "name": "ipython",
    "version": 3
   },
   "file_extension": ".py",
   "mimetype": "text/x-python",
   "name": "python",
   "nbconvert_exporter": "python",
   "pygments_lexer": "ipython3",
   "version": "3.8.2"
  }
 },
 "nbformat": 4,
 "nbformat_minor": 5
}
