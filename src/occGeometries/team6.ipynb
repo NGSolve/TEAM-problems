{
 "cells": [
  {
   "cell_type": "markdown",
   "id": "2b17ab27",
   "metadata": {},
   "source": [
    "TEAM benchmark 6 Sphere in Uniform Magnetic Field\n",
    "===\n",
    "\n",
    "https://www.compumag.org/wp/wp-content/uploads/2018/06/problem6.pdf"
   ]
  },
  {
   "cell_type": "code",
   "execution_count": 1,
   "id": "e221d400",
   "metadata": {},
   "outputs": [],
   "source": [
    "from netgen.occ import *\n",
    "from ngsolve.webgui import Draw\n",
    "from netgen.webgui import Draw as DrawGeo\n",
    "from ngsolve import Mesh"
   ]
  },
  {
   "cell_type": "code",
   "execution_count": 2,
   "id": "3d762541",
   "metadata": {},
   "outputs": [],
   "source": [
    "farbndrad = 0.3\n",
    "outerrad = 0.055\n",
    "innerrad = 0.05\n",
    "\n",
    "origin = gp_Pnt(0,0,0)\n",
    "\n",
    "extsphere = Sphere(origin, farbndrad).bc(\"airout\")\n",
    "outsphere = Sphere(origin, outerrad).bc(\"sphereout\")\n",
    "innsphere = Sphere(origin, innerrad).bc(\"spherein\").mat(\"air\")\n",
    "airshell = (extsphere - outsphere).mat(\"air\")\n",
    "sphere = (outsphere - innsphere).mat(\"sphere\")\n",
    "gluedgeo = Glue([airshell, sphere, innsphere])"
   ]
  },
  {
   "cell_type": "code",
   "execution_count": 3,
   "id": "852172ab",
   "metadata": {},
   "outputs": [
    {
     "data": {
      "application/vnd.jupyter.widget-view+json": {
       "model_id": "9ba455b3d51e4a528c2485af8464d9da",
       "version_major": 2,
       "version_minor": 0
      },
      "text/plain": [
       "WebGuiWidget(value={'ngsolve_version': 'Netgen x.x', 'mesh_dim': 3, 'mesh_center': [0.0, 0.0, 0.0], 'mesh_radi…"
      ]
     },
     "metadata": {},
     "output_type": "display_data"
    }
   ],
   "source": [
    "DrawGeo(gluedgeo)\n",
    "geo = OCCGeometry(gluedgeo)"
   ]
  },
  {
   "cell_type": "code",
   "execution_count": 4,
   "id": "420e17cb",
   "metadata": {},
   "outputs": [
    {
     "data": {
      "application/vnd.jupyter.widget-view+json": {
       "model_id": "3f28b888278a4502b7a445cc3e021188",
       "version_major": 2,
       "version_minor": 0
      },
      "text/plain": [
       "WebGuiWidget(value={'ngsolve_version': '6.2.2104-74-g70143ee25', 'mesh_dim': 3, 'order2d': 2, 'order3d': 2, 'd…"
      ]
     },
     "metadata": {},
     "output_type": "display_data"
    },
    {
     "name": "stdout",
     "output_type": "stream",
     "text": [
      "('airout', 'sphereout', 'sphereout')\n",
      "('air', 'air', 'air')\n"
     ]
    }
   ],
   "source": [
    "mesh = Mesh(geo.GenerateMesh(maxh=10))\n",
    "mesh.Curve(3)\n",
    "Draw(mesh);\n",
    "print (mesh.GetBoundaries())\n",
    "print (mesh.GetMaterials())"
   ]
  },
  {
   "cell_type": "code",
   "execution_count": null,
   "id": "22bd29ff",
   "metadata": {},
   "outputs": [],
   "source": []
  }
 ],
 "metadata": {
  "kernelspec": {
   "display_name": "Python 3",
   "language": "python",
   "name": "python3"
  },
  "language_info": {
   "codemirror_mode": {
    "name": "ipython",
    "version": 3
   },
   "file_extension": ".py",
   "mimetype": "text/x-python",
   "name": "python",
   "nbconvert_exporter": "python",
   "pygments_lexer": "ipython3",
   "version": "3.8.2"
  }
 },
 "nbformat": 4,
 "nbformat_minor": 5
}
