{
 "cells": [
  {
   "cell_type": "markdown",
   "id": "2b17ab27",
   "metadata": {},
   "source": [
    "TEAM benchmark 4 The FELIX Brick Experiment\n",
    "===\n",
    "\n",
    "https://www.compumag.org/wp/wp-content/uploads/2018/06/problem4.pdf"
   ]
  },
  {
   "cell_type": "code",
   "execution_count": 3,
   "id": "e221d400",
   "metadata": {},
   "outputs": [],
   "source": [
    "from netgen.occ import *\n",
    "from ngsolve.webgui import Draw\n",
    "from ngsolve import Mesh"
   ]
  },
  {
   "cell_type": "code",
   "execution_count": 4,
   "id": "3d762541",
   "metadata": {},
   "outputs": [],
   "source": [
    "l = 0.1524\n",
    "w = 0.1016\n",
    "h = 0.0508\n",
    "l_hole = 0.0889\n",
    "w_hole = 0.0381\n",
    "wp = WorkPlane(gp_Ax3(p=(0,0,0), n=Z, h=X))\n",
    "wp.Rectangle(l,w)\n",
    "wp.MoveTo((l-l_hole)/2,(w-w_hole)/2).Rectangle(l_hole,w_hole).Reverse()\n",
    "brick = wp.Face().Extrude(h)"
   ]
  },
  {
   "cell_type": "code",
   "execution_count": 5,
   "id": "852172ab",
   "metadata": {},
   "outputs": [],
   "source": [
    "geo = OCCGeometry(brick)"
   ]
  },
  {
   "cell_type": "code",
   "execution_count": 6,
   "id": "420e17cb",
   "metadata": {},
   "outputs": [
    {
     "data": {
      "application/vnd.jupyter.widget-view+json": {
       "model_id": "6af5674aeea44d41b7974daa8ae6bd4b",
       "version_major": 2,
       "version_minor": 0
      },
      "text/plain": [
       "WebGuiWidget(value={'ngsolve_version': '6.2.2104-70-gf9a5bdca4', 'mesh_dim': 3, 'order2d': 2, 'order3d': 2, 'd…"
      ]
     },
     "metadata": {},
     "output_type": "display_data"
    }
   ],
   "source": [
    "mesh = Mesh(geo.GenerateMesh(maxh=10))\n",
    "mesh.Curve(3)\n",
    "Draw(mesh);"
   ]
  },
  {
   "cell_type": "code",
   "execution_count": null,
   "id": "22bd29ff",
   "metadata": {},
   "outputs": [],
   "source": []
  }
 ],
 "metadata": {
  "kernelspec": {
   "display_name": "Python 3",
   "language": "python",
   "name": "python3"
  },
  "language_info": {
   "codemirror_mode": {
    "name": "ipython",
    "version": 3
   },
   "file_extension": ".py",
   "mimetype": "text/x-python",
   "name": "python",
   "nbconvert_exporter": "python",
   "pygments_lexer": "ipython3",
   "version": "3.8.2"
  }
 },
 "nbformat": 4,
 "nbformat_minor": 5
}
