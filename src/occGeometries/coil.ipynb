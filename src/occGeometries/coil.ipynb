{
 "cells": [
  {
   "cell_type": "code",
   "execution_count": 1,
   "id": "04240c3d",
   "metadata": {},
   "outputs": [],
   "source": [
    "from netgen.occ import *\n",
    "from ngsolve import Mesh\n",
    "from ngsolve.webgui import Draw\n",
    "# import netgen.gui\n",
    "import math"
   ]
  },
  {
   "cell_type": "code",
   "execution_count": 2,
   "id": "89737892",
   "metadata": {},
   "outputs": [],
   "source": [
    "cyl = Cylinder((0,0,0), Z, r=1, h=3).faces[0]\n",
    "heli = Edge(Segment((0,0), (12*math.pi, 3)), cyl)\n",
    "ps = heli.start\n",
    "vs = heli.start_tangent\n",
    "pe = heli.end\n",
    "ve = heli.end_tangent\n",
    "\n",
    "e1 = Segment((0,0,-3), (0,0,-1))\n",
    "c1 = BezierCurve( [(0,0,-1), (0,0,0), ps-vs, ps])\n",
    "e2 = Segment((0,0,4), (0,0,6))\n",
    "c2 = BezierCurve( [pe, pe+ve, (0,0,3), (0,0,4)])\n",
    "spiral = Wire([e1, c1, heli, c2, e2])\n",
    "circ = Face(Wire([Circle((0,0,-3), Z, 0.1)]))"
   ]
  },
  {
   "cell_type": "code",
   "execution_count": 3,
   "id": "3f888417",
   "metadata": {},
   "outputs": [],
   "source": [
    "coil = Pipe(spiral, circ)"
   ]
  },
  {
   "cell_type": "code",
   "execution_count": 4,
   "id": "8a7242b8",
   "metadata": {},
   "outputs": [],
   "source": [
    "geo = OCCGeometry(coil)"
   ]
  },
  {
   "cell_type": "code",
   "execution_count": 5,
   "id": "c455eac0",
   "metadata": {},
   "outputs": [],
   "source": [
    "mesh = Mesh(geo.GenerateMesh(maxh=0.1))"
   ]
  },
  {
   "cell_type": "code",
   "execution_count": 6,
   "id": "e8150ca7",
   "metadata": {},
   "outputs": [
    {
     "data": {
      "application/vnd.jupyter.widget-view+json": {
       "model_id": "41d2045e80304343aeecffe5d5a3840c",
       "version_major": 2,
       "version_minor": 0
      },
      "text/plain": [
       "WebGuiWidget(layout=Layout(height='50vh', width='100%'), value={'gui_settings': {}, 'ngsolve_version': '6.2.23…"
      ]
     },
     "metadata": {},
     "output_type": "display_data"
    }
   ],
   "source": [
    "Draw (mesh);"
   ]
  },
  {
   "cell_type": "code",
   "execution_count": null,
   "id": "f322bfc0",
   "metadata": {},
   "outputs": [],
   "source": []
  }
 ],
 "metadata": {
  "kernelspec": {
   "display_name": "Python 3 (ipykernel)",
   "language": "python",
   "name": "python3"
  },
  "language_info": {
   "codemirror_mode": {
    "name": "ipython",
    "version": 3
   },
   "file_extension": ".py",
   "mimetype": "text/x-python",
   "name": "python",
   "nbconvert_exporter": "python",
   "pygments_lexer": "ipython3",
   "version": "3.10.6"
  }
 },
 "nbformat": 4,
 "nbformat_minor": 5
}
