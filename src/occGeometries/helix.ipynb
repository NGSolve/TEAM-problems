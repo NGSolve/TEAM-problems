{
 "cells": [
  {
   "cell_type": "code",
   "execution_count": 1,
   "id": "4bd656ca",
   "metadata": {},
   "outputs": [],
   "source": [
    "from netgen.occ import *\n",
    "from ngsolve import Mesh\n",
    "from ngsolve.webgui import Draw\n",
    "import math"
   ]
  },
  {
   "cell_type": "code",
   "execution_count": 2,
   "id": "4746ae76",
   "metadata": {},
   "outputs": [],
   "source": [
    "ax = gp_Ax2( (0,0,0), (0,0,1))\n",
    "ax1 = gp_Ax1( (0,0,0), (1,0,0))\n",
    "trafo = gp_Trsf.Rotation(ax1, math.pi/4)\n",
    "# trafo = gp_Trsf.Mirror(ax1)\n",
    "cyl1 = Cylinder(ax, 0.9, 2).SubShapes(FACE)[0]\n",
    "cyl2 = Cylinder(ax, 1.1, 2).SubShapes(FACE)[0]"
   ]
  },
  {
   "cell_type": "code",
   "execution_count": 3,
   "id": "ce05dfb7",
   "metadata": {},
   "outputs": [],
   "source": [
    "p1 = gp_Pnt2d(0,0)\n",
    "p2 = gp_Pnt2d(6*math.pi,0.7)\n",
    "p3 = gp_Pnt2d(6*math.pi,0.8)\n",
    "p4 = gp_Pnt2d(0,0.1)\n",
    "seg1 = Segment(p1,p2)\n",
    "seg2 = Segment(p2,p3)\n",
    "seg3 = Segment(p3,p4)\n",
    "seg4 = Segment(p4,p1)"
   ]
  },
  {
   "cell_type": "code",
   "execution_count": 4,
   "id": "98acf08d",
   "metadata": {},
   "outputs": [],
   "source": [
    "wire1 = Wire( [Edge(seg1, cyl1), Edge(seg2, cyl1), \\\n",
    "               Edge(seg3, cyl1), Edge(seg4, cyl1), ] )\n",
    "wire2 = Wire( [Edge(seg1, cyl2), Edge(seg2, cyl2), \\\n",
    "               Edge(seg3, cyl2), Edge(seg4, cyl2), ] )"
   ]
  },
  {
   "cell_type": "code",
   "execution_count": 5,
   "id": "577b0e5a",
   "metadata": {},
   "outputs": [],
   "source": [
    "helix = ThruSections ([wire1, wire2])"
   ]
  },
  {
   "cell_type": "code",
   "execution_count": 6,
   "id": "543753d6",
   "metadata": {},
   "outputs": [],
   "source": [
    "box1 = Box((0.9,-1.5,0), (1.1,0,0.1))"
   ]
  },
  {
   "cell_type": "code",
   "execution_count": 7,
   "id": "4b324c16",
   "metadata": {},
   "outputs": [],
   "source": [
    "geo = OCCGeometry(helix+box1)\n",
    "mesh = Mesh(geo.GenerateMesh(maxh=0.2))"
   ]
  },
  {
   "cell_type": "code",
   "execution_count": 8,
   "id": "4aa9b656",
   "metadata": {
    "scrolled": false
   },
   "outputs": [
    {
     "data": {
      "application/vnd.jupyter.widget-view+json": {
       "model_id": "092e088f86014abdb3fcef7b0589dde4",
       "version_major": 2,
       "version_minor": 0
      },
      "text/plain": [
       "WebGuiWidget(value={'ngsolve_version': '6.2.2104-70-gf9a5bdca4', 'mesh_dim': 3, 'order2d': 2, 'order3d': 2, 'd…"
      ]
     },
     "metadata": {},
     "output_type": "display_data"
    }
   ],
   "source": [
    "mesh.Curve(3)\n",
    "Draw (mesh);"
   ]
  },
  {
   "cell_type": "code",
   "execution_count": null,
   "id": "a1978699",
   "metadata": {},
   "outputs": [],
   "source": []
  },
  {
   "cell_type": "code",
   "execution_count": null,
   "id": "7b352993",
   "metadata": {},
   "outputs": [],
   "source": []
  }
 ],
 "metadata": {
  "kernelspec": {
   "display_name": "Python 3",
   "language": "python",
   "name": "python3"
  },
  "language_info": {
   "codemirror_mode": {
    "name": "ipython",
    "version": 3
   },
   "file_extension": ".py",
   "mimetype": "text/x-python",
   "name": "python",
   "nbconvert_exporter": "python",
   "pygments_lexer": "ipython3",
   "version": "3.8.2"
  }
 },
 "nbformat": 4,
 "nbformat_minor": 5
}
