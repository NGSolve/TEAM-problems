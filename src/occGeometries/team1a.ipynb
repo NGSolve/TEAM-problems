{
 "cells": [
  {
   "cell_type": "markdown",
   "id": "pregnant-temple",
   "metadata": {},
   "source": [
    "TEAM benchmark 1a The FELIX Long Cylinder Experiment\n",
    "===\n",
    "\n",
    "https://www.compumag.org/wp/wp-content/uploads/2018/06/problem1a.pdf"
   ]
  },
  {
   "cell_type": "code",
   "execution_count": 35,
   "id": "advised-banking",
   "metadata": {},
   "outputs": [],
   "source": [
    "from netgen.occ import *\n",
    "from ngsolve.webgui import Draw\n",
    "from ngsolve import Mesh"
   ]
  },
  {
   "cell_type": "code",
   "execution_count": 36,
   "id": "declared-jewel",
   "metadata": {},
   "outputs": [],
   "source": [
    "length = 1.2\n",
    "innerrad = 0.1317\n",
    "outerrad = 0.1365"
   ]
  },
  {
   "cell_type": "code",
   "execution_count": 37,
   "id": "unlikely-providence",
   "metadata": {},
   "outputs": [],
   "source": [
    "innercyl = Cylinder(p=(0,0,-1), d=Z, r=innerrad, h=length+1)\n",
    "outercyl = Cylinder(p=(0,0,0), d=Z, r=outerrad, h=length)\n",
    "cyl = outercyl - innercyl"
   ]
  },
  {
   "cell_type": "code",
   "execution_count": 38,
   "id": "quarterly-writing",
   "metadata": {
    "scrolled": true
   },
   "outputs": [
    {
     "data": {
      "application/vnd.jupyter.widget-view+json": {
       "model_id": "a379970c0a4d4c72b0239dcae1c2a16a",
       "version_major": 2,
       "version_minor": 0
      },
      "text/plain": [
       "WebGuiWidget(value={'ngsolve_version': '6.2.2104-70-gf9a5bdca4', 'mesh_dim': 3, 'order2d': 2, 'order3d': 2, 'd…"
      ]
     },
     "metadata": {},
     "output_type": "display_data"
    }
   ],
   "source": [
    "geo = OCCGeometry(cyl)\n",
    "mesh = Mesh(geo.GenerateMesh(maxh=0.05))\n",
    "mesh.Curve(3)\n",
    "Draw(mesh);"
   ]
  },
  {
   "cell_type": "code",
   "execution_count": null,
   "id": "academic-bridges",
   "metadata": {},
   "outputs": [],
   "source": []
  }
 ],
 "metadata": {
  "kernelspec": {
   "display_name": "Python 3",
   "language": "python",
   "name": "python3"
  },
  "language_info": {
   "codemirror_mode": {
    "name": "ipython",
    "version": 3
   },
   "file_extension": ".py",
   "mimetype": "text/x-python",
   "name": "python",
   "nbconvert_exporter": "python",
   "pygments_lexer": "ipython3",
   "version": "3.8.2"
  }
 },
 "nbformat": 4,
 "nbformat_minor": 5
}
